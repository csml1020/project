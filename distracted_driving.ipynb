{
 "cells": [
  {
   "cell_type": "code",
   "execution_count": 1,
   "metadata": {},
   "outputs": [],
   "source": [
    "from __future__ import absolute_import, division, print_function, unicode_literals\n",
    "\n",
    "import os\n",
    "import pandas as pd\n",
    "import numpy as np\n",
    "import cv2 as cv\n",
    "import PIL\n",
    "from sklearn.cluster import KMeans\n",
    "\n",
    "import tensorflow as tf\n",
    "from tensorflow.keras.models import Sequential\n",
    "from tensorflow.keras.layers import Dense, Conv2D, Flatten, Dropout, MaxPooling2D\n",
    "from tensorflow.keras.preprocessing.image import ImageDataGenerator\n",
    "\n",
    "import os\n",
    "import numpy as np\n",
    "import matplotlib.pyplot as plt\n",
    "\n",
    "DATA_LOC = r'C:\\Temp\\Data\\state-farm-distracted-driver-detection'\n",
    "CSV_LOC = os.path.join(DATA_LOC, 'driver_imgs_list.csv')\n",
    "IMGS_LOC = os.path.join(DATA_LOC, 'imgs')\n",
    "TRAIN_LOC = os.path.join(IMGS_LOC, 'train')\n",
    "VAL_LOC = os.path.join(IMGS_LOC, 'val')\n",
    "TEST_LOC = os.path.join(IMGS_LOC, 'test')\n",
    "MODEL_LOC = lambda model_: r'C:\\temp\\Data\\models\\{}.model'.format(model_name)\n",
    "OUT_LOC = os.path.join(DATA_LOC, 'submission.csv')"
   ]
  },
  {
   "cell_type": "code",
   "execution_count": 2,
   "metadata": {},
   "outputs": [
    {
     "data": {
      "text/plain": [
       "[PhysicalDevice(name='/physical_device:CPU:0', device_type='CPU'),\n",
       " PhysicalDevice(name='/physical_device:GPU:0', device_type='GPU')]"
      ]
     },
     "execution_count": 2,
     "metadata": {},
     "output_type": "execute_result"
    }
   ],
   "source": [
    "tf.config.list_physical_devices()"
   ]
  },
  {
   "cell_type": "code",
   "execution_count": 3,
   "metadata": {},
   "outputs": [],
   "source": [
    "if True:\n",
    "    # split data into train/test\n",
    "    data = pd.read_csv(CSV_LOC)\n",
    "    from sklearn.model_selection import train_test_split\n",
    "    train, val = train_test_split(data, test_size=0.2)\n",
    "if False: #if they don't exist\n",
    "    # create val dir\n",
    "    os.mkdir(os.path.join(IMGS_LOC, 'val'))\n",
    "    for n in range(10):\n",
    "        os.mkdir(os.path.join(IMGS_LOC, 'val', 'c'+str(n)))\n",
    "if False:\n",
    "    import shutil\n",
    "    #move files from trian dir to val dir\n",
    "    for src, dst in [(os.path.join(TRAIN_LOC, cn, img), os.path.join(VAL_LOC, cn, img))\n",
    "                     for cn, img in val.loc[:,['classname','img']].values.tolist()]:\n",
    "        if os.path.exists(src):\n",
    "            shutil.move(src,dst)"
   ]
  },
  {
   "cell_type": "code",
   "execution_count": 4,
   "metadata": {},
   "outputs": [],
   "source": [
    "total_train = train.shape[0]\n",
    "total_val = val.shape[0]"
   ]
  },
  {
   "cell_type": "code",
   "execution_count": 5,
   "metadata": {},
   "outputs": [],
   "source": [
    "batch_size = 80\n",
    "EPOCHS = 100\n",
    "IMG_HEIGHT = 480\n",
    "IMG_WIDTH = 640\n",
    "MODEL_NAME = 'sgd100'"
   ]
  },
  {
   "cell_type": "code",
   "execution_count": 6,
   "metadata": {},
   "outputs": [],
   "source": [
    "train_image_generator = ImageDataGenerator(\n",
    "    rescale=1./255,\n",
    "    rotation_range=45,\n",
    "    width_shift_range=.15,  \n",
    "    height_shift_range=.15,\n",
    "    horizontal_flip=True,\n",
    "    zoom_range=0.5\n",
    ")\n",
    "\n",
    "validation_image_generator = ImageDataGenerator(rescale=1./255)"
   ]
  },
  {
   "cell_type": "code",
   "execution_count": 7,
   "metadata": {},
   "outputs": [
    {
     "name": "stdout",
     "output_type": "stream",
     "text": [
      "Found 17939 images belonging to 10 classes.\n"
     ]
    }
   ],
   "source": [
    "train_data_gen = train_image_generator.flow_from_directory(batch_size=batch_size,\n",
    "                                                           directory=TRAIN_LOC,\n",
    "                                                           shuffle=True,\n",
    "                                                           target_size=(IMG_HEIGHT, IMG_WIDTH),\n",
    "                                                           class_mode='categorical')"
   ]
  },
  {
   "cell_type": "code",
   "execution_count": 8,
   "metadata": {},
   "outputs": [
    {
     "name": "stdout",
     "output_type": "stream",
     "text": [
      "Found 4485 images belonging to 10 classes.\n"
     ]
    }
   ],
   "source": [
    "val_data_gen = validation_image_generator.flow_from_directory(batch_size=batch_size,\n",
    "                                                              directory=VAL_LOC,\n",
    "                                                              target_size=(IMG_HEIGHT, IMG_WIDTH),\n",
    "                                                              class_mode='categorical')"
   ]
  },
  {
   "cell_type": "code",
   "execution_count": 9,
   "metadata": {},
   "outputs": [],
   "source": [
    "# This function will plot images in the form of a grid with 1 row and 5 columns where images are placed in each column.\n",
    "def plotImages(images_arr):\n",
    "    fig, axes = plt.subplots(1, 5, figsize=(20,20))\n",
    "    axes = axes.flatten()\n",
    "    for img, ax in zip( images_arr, axes):\n",
    "        ax.imshow(img)\n",
    "        ax.axis('off')\n",
    "    plt.tight_layout()\n",
    "    plt.show()"
   ]
  },
  {
   "cell_type": "code",
   "execution_count": 10,
   "metadata": {},
   "outputs": [],
   "source": [
    "if False:\n",
    "    sample_training_images, _ = next(train_data_gen)\n",
    "    plotImages(sample_training_images[:5])"
   ]
  },
  {
   "cell_type": "code",
   "execution_count": 11,
   "metadata": {},
   "outputs": [],
   "source": [
    "model = Sequential([\n",
    "    Conv2D(16, 3, padding='same', activation='relu', input_shape=(IMG_HEIGHT, IMG_WIDTH, 3)),\n",
    "    MaxPooling2D(),\n",
    "    Dropout(0.2),\n",
    "    Conv2D(32, 3, padding='same', activation='relu'),\n",
    "    MaxPooling2D(),\n",
    "    Dropout(0.2),\n",
    "    Conv2D(64, 3, padding='same', activation='relu'),\n",
    "    MaxPooling2D(),\n",
    "    Dropout(0.2),\n",
    "    Flatten(),\n",
    "    Dense(512, activation='relu'),\n",
    "    Dense(10, activation='softmax')\n",
    "])"
   ]
  },
  {
   "cell_type": "code",
   "execution_count": 12,
   "metadata": {},
   "outputs": [],
   "source": [
    "model.compile(optimizer=tf.keras.optimizers.SGD(lr=0.01, momentum=0.9),\n",
    "              loss=tf.keras.losses.CategoricalCrossentropy(from_logits=True),\n",
    "              metrics=['accuracy'])"
   ]
  },
  {
   "cell_type": "code",
   "execution_count": 13,
   "metadata": {},
   "outputs": [],
   "source": [
    "# model = tf.keras.models.load_model(MODEL_LOC(MODEL_NAME))\n",
    "# epochs = 21"
   ]
  },
  {
   "cell_type": "code",
   "execution_count": 14,
   "metadata": {},
   "outputs": [
    {
     "name": "stdout",
     "output_type": "stream",
     "text": [
      "Model: \"sequential\"\n",
      "_________________________________________________________________\n",
      "Layer (type)                 Output Shape              Param #   \n",
      "=================================================================\n",
      "conv2d (Conv2D)              (None, 480, 640, 16)      448       \n",
      "_________________________________________________________________\n",
      "max_pooling2d (MaxPooling2D) (None, 240, 320, 16)      0         \n",
      "_________________________________________________________________\n",
      "dropout (Dropout)            (None, 240, 320, 16)      0         \n",
      "_________________________________________________________________\n",
      "conv2d_1 (Conv2D)            (None, 240, 320, 32)      4640      \n",
      "_________________________________________________________________\n",
      "max_pooling2d_1 (MaxPooling2 (None, 120, 160, 32)      0         \n",
      "_________________________________________________________________\n",
      "dropout_1 (Dropout)          (None, 120, 160, 32)      0         \n",
      "_________________________________________________________________\n",
      "conv2d_2 (Conv2D)            (None, 120, 160, 64)      18496     \n",
      "_________________________________________________________________\n",
      "max_pooling2d_2 (MaxPooling2 (None, 60, 80, 64)        0         \n",
      "_________________________________________________________________\n",
      "dropout_2 (Dropout)          (None, 60, 80, 64)        0         \n",
      "_________________________________________________________________\n",
      "flatten (Flatten)            (None, 307200)            0         \n",
      "_________________________________________________________________\n",
      "dense (Dense)                (None, 512)               157286912 \n",
      "_________________________________________________________________\n",
      "dense_1 (Dense)              (None, 10)                5130      \n",
      "=================================================================\n",
      "Total params: 157,315,626\n",
      "Trainable params: 157,315,626\n",
      "Non-trainable params: 0\n",
      "_________________________________________________________________\n"
     ]
    }
   ],
   "source": [
    "model.summary()"
   ]
  },
  {
   "cell_type": "code",
   "execution_count": null,
   "metadata": {},
   "outputs": [
    {
     "name": "stdout",
     "output_type": "stream",
     "text": [
      "WARNING:tensorflow:sample_weight modes were coerced from\n",
      "  ...\n",
      "    to  \n",
      "  ['...']\n",
      "WARNING:tensorflow:sample_weight modes were coerced from\n",
      "  ...\n",
      "    to  \n",
      "  ['...']\n",
      "Train for 225 steps, validate for 57 steps\n",
      "Epoch 1/100\n",
      "225/225 [==============================] - 929s 4s/step - loss: 2.3008 - accuracy: 0.1126 - val_loss: 2.2962 - val_accuracy: 0.1550\n",
      "Epoch 2/100\n",
      "225/225 [==============================] - 938s 4s/step - loss: 2.2927 - accuracy: 0.1345 - val_loss: 2.2771 - val_accuracy: 0.2185\n",
      "Epoch 3/100\n",
      "225/225 [==============================] - 961s 4s/step - loss: 2.2770 - accuracy: 0.1621 - val_loss: 2.2247 - val_accuracy: 0.2667\n",
      "Epoch 4/100\n",
      "225/225 [==============================] - 878s 4s/step - loss: 2.2666 - accuracy: 0.1759 - val_loss: 2.2211 - val_accuracy: 0.2421\n",
      "Epoch 5/100\n",
      "225/225 [==============================] - 911s 4s/step - loss: 2.2580 - accuracy: 0.1875 - val_loss: 2.1897 - val_accuracy: 0.2807\n",
      "Epoch 6/100\n",
      "225/225 [==============================] - 1000s 4s/step - loss: 2.2487 - accuracy: 0.1972 - val_loss: 2.1628 - val_accuracy: 0.3075\n",
      "Epoch 7/100\n",
      "225/225 [==============================] - 878s 4s/step - loss: 2.2382 - accuracy: 0.2060 - val_loss: 2.1747 - val_accuracy: 0.2729\n",
      "Epoch 8/100\n",
      "225/225 [==============================] - 875s 4s/step - loss: 2.2357 - accuracy: 0.2107 - val_loss: 2.1499 - val_accuracy: 0.3215\n",
      "Epoch 9/100\n",
      "225/225 [==============================] - 889s 4s/step - loss: 2.2249 - accuracy: 0.2252 - val_loss: 2.1351 - val_accuracy: 0.3382\n",
      "Epoch 10/100\n",
      "225/225 [==============================] - 876s 4s/step - loss: 2.2152 - accuracy: 0.2353 - val_loss: 2.1073 - val_accuracy: 0.3563\n",
      "Epoch 11/100\n",
      "225/225 [==============================] - 878s 4s/step - loss: 2.2110 - accuracy: 0.2418 - val_loss: 2.1170 - val_accuracy: 0.3336\n",
      "Epoch 12/100\n",
      "225/225 [==============================] - 873s 4s/step - loss: 2.2039 - accuracy: 0.2480 - val_loss: 2.1372 - val_accuracy: 0.3191\n",
      "Epoch 13/100\n",
      "225/225 [==============================] - 877s 4s/step - loss: 2.1986 - accuracy: 0.2541 - val_loss: 2.1132 - val_accuracy: 0.3431\n",
      "Epoch 14/100\n",
      "225/225 [==============================] - 875s 4s/step - loss: 2.1908 - accuracy: 0.2614 - val_loss: 2.0800 - val_accuracy: 0.3802\n",
      "Epoch 15/100\n",
      "225/225 [==============================] - 913s 4s/step - loss: 2.1823 - accuracy: 0.2701 - val_loss: 2.0317 - val_accuracy: 0.4357\n",
      "Epoch 16/100\n",
      "225/225 [==============================] - 963s 4s/step - loss: 2.1771 - accuracy: 0.2741 - val_loss: 2.0146 - val_accuracy: 0.4555\n",
      "Epoch 17/100\n",
      "225/225 [==============================] - 1002s 4s/step - loss: 2.1761 - accuracy: 0.2759 - val_loss: 2.0238 - val_accuracy: 0.4506\n",
      "Epoch 18/100\n",
      "225/225 [==============================] - 977s 4s/step - loss: 2.1701 - accuracy: 0.2822 - val_loss: 2.0302 - val_accuracy: 0.4359\n",
      "Epoch 19/100\n",
      "225/225 [==============================] - 984s 4s/step - loss: 2.1535 - accuracy: 0.2986 - val_loss: 2.0052 - val_accuracy: 0.4526\n",
      "Epoch 20/100\n",
      "225/225 [==============================] - 981s 4s/step - loss: 2.1549 - accuracy: 0.2970 - val_loss: 1.9831 - val_accuracy: 0.4968\n",
      "Epoch 21/100\n",
      "225/225 [==============================] - 987s 4s/step - loss: 2.1475 - accuracy: 0.3079 - val_loss: 1.9960 - val_accuracy: 0.4635\n",
      "Epoch 22/100\n",
      "225/225 [==============================] - 960s 4s/step - loss: 2.1430 - accuracy: 0.3116 - val_loss: 1.9628 - val_accuracy: 0.5021\n",
      "Epoch 23/100\n",
      "225/225 [==============================] - 950s 4s/step - loss: 2.1447 - accuracy: 0.3103 - val_loss: 1.9618 - val_accuracy: 0.5059\n",
      "Epoch 24/100\n",
      "225/225 [==============================] - 952s 4s/step - loss: 2.1373 - accuracy: 0.3187 - val_loss: 1.9692 - val_accuracy: 0.4936\n",
      "Epoch 25/100\n",
      "225/225 [==============================] - 945s 4s/step - loss: 2.1287 - accuracy: 0.3262 - val_loss: 1.9574 - val_accuracy: 0.5066\n",
      "Epoch 26/100\n",
      "225/225 [==============================] - 948s 4s/step - loss: 2.1415 - accuracy: 0.3121 - val_loss: 1.9730 - val_accuracy: 0.4836\n",
      "Epoch 27/100\n",
      "225/225 [==============================] - 949s 4s/step - loss: 2.1323 - accuracy: 0.3236 - val_loss: 1.9634 - val_accuracy: 0.4968\n",
      "Epoch 28/100\n",
      "225/225 [==============================] - 905s 4s/step - loss: 2.1263 - accuracy: 0.3274 - val_loss: 1.9631 - val_accuracy: 0.5017\n",
      "Epoch 29/100\n",
      "225/225 [==============================] - 901s 4s/step - loss: 2.1266 - accuracy: 0.3288 - val_loss: 1.9366 - val_accuracy: 0.5318\n",
      "Epoch 30/100\n",
      "225/225 [==============================] - 903s 4s/step - loss: 2.1193 - accuracy: 0.3357 - val_loss: 1.9498 - val_accuracy: 0.5037\n",
      "Epoch 31/100\n",
      "225/225 [==============================] - 902s 4s/step - loss: 2.1165 - accuracy: 0.3391 - val_loss: 1.9687 - val_accuracy: 0.4870\n",
      "Epoch 32/100\n",
      "225/225 [==============================] - 899s 4s/step - loss: 2.1109 - accuracy: 0.3443 - val_loss: 1.9354 - val_accuracy: 0.5220\n",
      "Epoch 33/100\n",
      "225/225 [==============================] - 911s 4s/step - loss: 2.1093 - accuracy: 0.3464 - val_loss: 1.9286 - val_accuracy: 0.5302\n",
      "Epoch 34/100\n",
      "225/225 [==============================] - 987s 4s/step - loss: 2.1138 - accuracy: 0.3414 - val_loss: 1.9395 - val_accuracy: 0.5186\n",
      "Epoch 35/100\n",
      "225/225 [==============================] - 904s 4s/step - loss: 2.1005 - accuracy: 0.3553 - val_loss: 1.9671 - val_accuracy: 0.4954\n",
      "Epoch 36/100\n",
      "225/225 [==============================] - 916s 4s/step - loss: 2.1034 - accuracy: 0.3528 - val_loss: 1.9432 - val_accuracy: 0.5177\n",
      "Epoch 37/100\n",
      "225/225 [==============================] - 935s 4s/step - loss: 2.1026 - accuracy: 0.3538 - val_loss: 1.9058 - val_accuracy: 0.5523\n",
      "Epoch 38/100\n",
      "225/225 [==============================] - 904s 4s/step - loss: 2.1060 - accuracy: 0.3495 - val_loss: 1.9293 - val_accuracy: 0.5289\n",
      "Epoch 39/100\n",
      "225/225 [==============================] - 915s 4s/step - loss: 2.0964 - accuracy: 0.3606 - val_loss: 1.9185 - val_accuracy: 0.5411\n",
      "Epoch 40/100\n",
      "225/225 [==============================] - 902s 4s/step - loss: 2.0996 - accuracy: 0.3566 - val_loss: 1.9596 - val_accuracy: 0.5001\n",
      "Epoch 41/100\n",
      "225/225 [==============================] - 902s 4s/step - loss: 2.0907 - accuracy: 0.3648 - val_loss: 1.8889 - val_accuracy: 0.5670\n",
      "Epoch 42/100\n",
      "225/225 [==============================] - 907s 4s/step - loss: 2.0941 - accuracy: 0.3630 - val_loss: 1.9164 - val_accuracy: 0.5416\n",
      "Epoch 43/100\n",
      "225/225 [==============================] - 917s 4s/step - loss: 2.1026 - accuracy: 0.3532 - val_loss: 1.9142 - val_accuracy: 0.5447\n",
      "Epoch 44/100\n",
      "225/225 [==============================] - 903s 4s/step - loss: 2.0982 - accuracy: 0.3592 - val_loss: 1.9150 - val_accuracy: 0.5394\n",
      "Epoch 45/100\n",
      "225/225 [==============================] - 905s 4s/step - loss: 2.0955 - accuracy: 0.3621 - val_loss: 1.9169 - val_accuracy: 0.5411\n",
      "Epoch 46/100\n",
      "225/225 [==============================] - 908s 4s/step - loss: 2.1045 - accuracy: 0.3524 - val_loss: 1.9425 - val_accuracy: 0.5088\n",
      "Epoch 47/100\n",
      "160/225 [====================>.........] - ETA: 4:17 - loss: 2.0795 - accuracy: 0.3774"
     ]
    }
   ],
   "source": [
    "history = model.fit(\n",
    "    train_data_gen,\n",
    "    epochs=EPOCHS,\n",
    "    validation_data=val_data_gen\n",
    ")"
   ]
  },
  {
   "cell_type": "code",
   "execution_count": null,
   "metadata": {},
   "outputs": [],
   "source": [
    "list(history.history.keys())"
   ]
  },
  {
   "cell_type": "code",
   "execution_count": null,
   "metadata": {},
   "outputs": [],
   "source": [
    "acc = history.history['accuracy']\n",
    "val_acc = history.history['val_accuracy']\n",
    "\n",
    "loss=history.history['loss']\n",
    "val_loss=history.history['val_loss']\n",
    "\n",
    "epochs_range = range(EPOCHS)\n",
    "\n",
    "plt.figure(figsize=(8, 4))\n",
    "plt.subplot(1, 2, 1)\n",
    "plt.plot(epochs_range, acc, label='Training Accuracy')\n",
    "plt.plot(epochs_range, val_acc, label='Validation Accuracy')\n",
    "plt.legend(loc='lower right')\n",
    "plt.title('Training and Validation Accuracy')\n",
    "\n",
    "plt.subplot(1, 2, 2)\n",
    "plt.plot(epochs_range, loss, label='Training Loss')\n",
    "plt.plot(epochs_range, val_loss, label='Validation Loss')\n",
    "plt.legend(loc='upper right')\n",
    "plt.title('Training and Validation Loss')\n",
    "plt.show()"
   ]
  },
  {
   "cell_type": "code",
   "execution_count": null,
   "metadata": {},
   "outputs": [],
   "source": [
    "model.save(MODEL_LOC(MODEL_NAME))"
   ]
  },
  {
   "cell_type": "code",
   "execution_count": null,
   "metadata": {},
   "outputs": [],
   "source": [
    "test_image_generator = ImageDataGenerator(rescale=1./255)\n",
    "test_data_gen = test_image_generator.flow_from_directory(batch_size=batch_size,\n",
    "                                                         directory=TEST_LOC,\n",
    "                                                         target_size=(IMG_HEIGHT, IMG_WIDTH),\n",
    "                                                         class_mode='categorical')"
   ]
  },
  {
   "cell_type": "code",
   "execution_count": null,
   "metadata": {},
   "outputs": [],
   "source": [
    "predict = model.predict(test_data_gen)"
   ]
  },
  {
   "cell_type": "code",
   "execution_count": null,
   "metadata": {},
   "outputs": [],
   "source": [
    "len(predict)"
   ]
  },
  {
   "cell_type": "code",
   "execution_count": null,
   "metadata": {},
   "outputs": [],
   "source": [
    "submission = pd.DataFrame([[fname]+ pred for fname, pred in (zip(os.listdir(os.path.join(TEST_LOC,'unknown')), predict.tolist()))], columns=['img'] + [f'c{n}' for n in range(10)])\n",
    "submission"
   ]
  },
  {
   "cell_type": "code",
   "execution_count": null,
   "metadata": {},
   "outputs": [],
   "source": [
    "submission.to_csv(OUT_LOC, index=False)"
   ]
  }
 ],
 "metadata": {
  "kernelspec": {
   "display_name": "Python 3",
   "language": "python",
   "name": "python3"
  },
  "language_info": {
   "codemirror_mode": {
    "name": "ipython",
    "version": 3
   },
   "file_extension": ".py",
   "mimetype": "text/x-python",
   "name": "python",
   "nbconvert_exporter": "python",
   "pygments_lexer": "ipython3",
   "version": "3.7.1"
  }
 },
 "nbformat": 4,
 "nbformat_minor": 4
}
