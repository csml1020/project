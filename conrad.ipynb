{
 "cells": [
  {
   "cell_type": "markdown",
   "metadata": {
    "colab_type": "text",
    "id": "FE7KNzPPVrVV"
   },
   "source": [
    "# Image classification"
   ]
  },
  {
   "cell_type": "markdown",
   "metadata": {
    "colab_type": "text",
    "id": "zF9uvbXNVrVY"
   },
   "source": [
    "## Import packages"
   ]
  },
  {
   "cell_type": "markdown",
   "metadata": {
    "colab_type": "text",
    "id": "VddxeYBEVrVZ"
   },
   "source": [
    "Let's start by importing the required packages. The `os` package is used to read files and directory structure, NumPy is used to convert python list to numpy array and to perform required matrix operations and `matplotlib.pyplot` to plot the graph and display images in the training and validation data."
   ]
  },
  {
   "cell_type": "code",
   "execution_count": 0,
   "metadata": {
    "colab": {},
    "colab_type": "code",
    "id": "rtPGh2MAVrVa"
   },
   "outputs": [],
   "source": [
    "from __future__ import absolute_import, division, print_function, unicode_literals"
   ]
  },
  {
   "cell_type": "markdown",
   "metadata": {
    "colab_type": "text",
    "id": "Jlchl4x2VrVg"
   },
   "source": [
    "Import Tensorflow and the Keras classes needed to construct our model."
   ]
  },
  {
   "cell_type": "code",
   "execution_count": 3,
   "metadata": {
    "colab": {
     "base_uri": "https://localhost:8080/",
     "height": 33
    },
    "colab_type": "code",
    "executionInfo": {
     "elapsed": 1942,
     "status": "ok",
     "timestamp": 1581959142161,
     "user": {
      "displayName": "Conrard TETSASSI",
      "photoUrl": "",
      "userId": "08359346339446887866"
     },
     "user_tz": 300
    },
    "id": "E82grprdYPI0",
    "outputId": "65586236-4463-4889-993b-ce3c1c0bcb7d"
   },
   "outputs": [
    {
     "name": "stdout",
     "output_type": "stream",
     "text": [
      "TensorFlow 2.x selected.\n"
     ]
    }
   ],
   "source": [
    "try:\n",
    "  # %tensorflow_version only exists in Colab.\n",
    "  %tensorflow_version 2.x\n",
    "except Exception:\n",
    "  pass\n",
    "import tensorflow as tf"
   ]
  },
  {
   "cell_type": "code",
   "execution_count": 0,
   "metadata": {
    "colab": {},
    "colab_type": "code",
    "id": "L1WtoaOHVrVh"
   },
   "outputs": [],
   "source": [
    "from tensorflow.keras.models import Sequential\n",
    "from tensorflow.keras.layers import Dense, Conv2D, Flatten, Dropout, MaxPooling2D, BatchNormalization\n",
    "from tensorflow.keras.preprocessing.image import ImageDataGenerator\n",
    "from tensorflow.keras.optimizers import SGD\n",
    "from tensorflow.keras.callbacks import ModelCheckpoint\n",
    "import os\n",
    "import numpy as np\n",
    "import pandas as pd\n",
    "import matplotlib.pyplot as plt\n",
    "from glob import glob\n",
    "import cv2\n",
    "import shutil\n",
    "import seaborn as sns\n",
    "#import glob"
   ]
  },
  {
   "cell_type": "markdown",
   "metadata": {
    "colab_type": "text",
    "id": "YHY2pD_Y89hu"
   },
   "source": [
    "Mount Google drive"
   ]
  },
  {
   "cell_type": "code",
   "execution_count": 5,
   "metadata": {
    "colab": {
     "base_uri": "https://localhost:8080/",
     "height": 33
    },
    "colab_type": "code",
    "executionInfo": {
     "elapsed": 1914,
     "status": "ok",
     "timestamp": 1581959147011,
     "user": {
      "displayName": "Conrard TETSASSI",
      "photoUrl": "",
      "userId": "08359346339446887866"
     },
     "user_tz": 300
    },
    "id": "A83gy2JB8sB9",
    "outputId": "75802041-dd3e-450d-8be9-ae693f9e5365"
   },
   "outputs": [
    {
     "name": "stdout",
     "output_type": "stream",
     "text": [
      "Mounted at /content/drive\n"
     ]
    }
   ],
   "source": [
    "from google.colab import drive\n",
    "drive.mount('/content/drive',force_remount=True)"
   ]
  },
  {
   "cell_type": "code",
   "execution_count": 0,
   "metadata": {
    "colab": {},
    "colab_type": "code",
    "id": "P8I7B8NZ9AsM"
   },
   "outputs": [],
   "source": [
    "workdir ='/content/drive/My Drive/data/distracted/'\n",
    "#workdir ='/content/drive/My Drive/data/Sample/'"
   ]
  },
  {
   "cell_type": "code",
   "execution_count": 7,
   "metadata": {
    "colab": {
     "base_uri": "https://localhost:8080/",
     "height": 33
    },
    "colab_type": "code",
    "executionInfo": {
     "elapsed": 1731,
     "status": "ok",
     "timestamp": 1581959153575,
     "user": {
      "displayName": "Conrard TETSASSI",
      "photoUrl": "",
      "userId": "08359346339446887866"
     },
     "user_tz": 300
    },
    "id": "1DySEUHho88a",
    "outputId": "c5b96147-e84e-4340-b7e6-02d4272b3d38"
   },
   "outputs": [
    {
     "name": "stdout",
     "output_type": "stream",
     "text": [
      "driver_imgs_list.csv  imgs  sample_submission.csv\n"
     ]
    }
   ],
   "source": [
    "!ls /content/drive/My\\ Drive/data/distracted"
   ]
  },
  {
   "cell_type": "markdown",
   "metadata": {
    "colab_type": "text",
    "id": "UZZI6lNkVrVm"
   },
   "source": [
    "## Load data"
   ]
  },
  {
   "cell_type": "code",
   "execution_count": 8,
   "metadata": {
    "colab": {
     "base_uri": "https://localhost:8080/",
     "height": 191
    },
    "colab_type": "code",
    "executionInfo": {
     "elapsed": 295,
     "status": "ok",
     "timestamp": 1581959160533,
     "user": {
      "displayName": "Conrard TETSASSI",
      "photoUrl": "",
      "userId": "08359346339446887866"
     },
     "user_tz": 300
    },
    "id": "BVIzUDjCl4WV",
    "outputId": "65d90691-fe7c-43d3-a3d5-5f1b9a7c37e3"
   },
   "outputs": [
    {
     "data": {
      "text/html": [
       "<div>\n",
       "<style scoped>\n",
       "    .dataframe tbody tr th:only-of-type {\n",
       "        vertical-align: middle;\n",
       "    }\n",
       "\n",
       "    .dataframe tbody tr th {\n",
       "        vertical-align: top;\n",
       "    }\n",
       "\n",
       "    .dataframe thead th {\n",
       "        text-align: right;\n",
       "    }\n",
       "</style>\n",
       "<table border=\"1\" class=\"dataframe\">\n",
       "  <thead>\n",
       "    <tr style=\"text-align: right;\">\n",
       "      <th></th>\n",
       "      <th>subject</th>\n",
       "      <th>classname</th>\n",
       "      <th>img</th>\n",
       "    </tr>\n",
       "  </thead>\n",
       "  <tbody>\n",
       "    <tr>\n",
       "      <th>0</th>\n",
       "      <td>p002</td>\n",
       "      <td>c0</td>\n",
       "      <td>img_44733.jpg</td>\n",
       "    </tr>\n",
       "    <tr>\n",
       "      <th>1</th>\n",
       "      <td>p002</td>\n",
       "      <td>c0</td>\n",
       "      <td>img_72999.jpg</td>\n",
       "    </tr>\n",
       "    <tr>\n",
       "      <th>2</th>\n",
       "      <td>p002</td>\n",
       "      <td>c0</td>\n",
       "      <td>img_25094.jpg</td>\n",
       "    </tr>\n",
       "    <tr>\n",
       "      <th>3</th>\n",
       "      <td>p002</td>\n",
       "      <td>c0</td>\n",
       "      <td>img_69092.jpg</td>\n",
       "    </tr>\n",
       "    <tr>\n",
       "      <th>4</th>\n",
       "      <td>p002</td>\n",
       "      <td>c0</td>\n",
       "      <td>img_92629.jpg</td>\n",
       "    </tr>\n",
       "  </tbody>\n",
       "</table>\n",
       "</div>"
      ],
      "text/plain": [
       "  subject classname            img\n",
       "0    p002        c0  img_44733.jpg\n",
       "1    p002        c0  img_72999.jpg\n",
       "2    p002        c0  img_25094.jpg\n",
       "3    p002        c0  img_69092.jpg\n",
       "4    p002        c0  img_92629.jpg"
      ]
     },
     "execution_count": 8,
     "metadata": {
      "tags": []
     },
     "output_type": "execute_result"
    }
   ],
   "source": [
    "import pandas as pd\n",
    "imgs_list_df = pd.read_csv(workdir+'driver_imgs_list.csv')\n",
    "imgs_list_df.head()"
   ]
  },
  {
   "cell_type": "code",
   "execution_count": 9,
   "metadata": {
    "colab": {
     "base_uri": "https://localhost:8080/",
     "height": 33
    },
    "colab_type": "code",
    "executionInfo": {
     "elapsed": 331,
     "status": "ok",
     "timestamp": 1581959162723,
     "user": {
      "displayName": "Conrard TETSASSI",
      "photoUrl": "",
      "userId": "08359346339446887866"
     },
     "user_tz": 300
    },
    "id": "Qlrhi-2CwURM",
    "outputId": "bf83773f-90d3-4064-87c4-49ead668ca7b"
   },
   "outputs": [
    {
     "name": "stdout",
     "output_type": "stream",
     "text": [
      "['train', 'test']\n"
     ]
    }
   ],
   "source": [
    "print(os.listdir(workdir+'imgs/'))\n",
    "data_dir = workdir+'imgs/'"
   ]
  },
  {
   "cell_type": "markdown",
   "metadata": {
    "colab_type": "text",
    "id": "Giv0wMQzVrVw"
   },
   "source": [
    "The dataset has the following directory structure:\n",
    "\n",
    "<pre>\n",
    "<b>imgs</b>\n",
    "|__ <b>train</b>\n",
    "    |______ <b>c0</b>: [img_844.jpg, ....]\n",
    "    |______ <b>c1</b>: [img_9820.jpg,  ...]\n",
    "|__ <b>test</b>\n",
    "    |______ img_0297.jpg\n",
    "    |______ img_8269.jpg\n",
    "</pre>"
   ]
  },
  {
   "cell_type": "markdown",
   "metadata": {
    "colab_type": "text",
    "id": "VpmywIlsVrVx"
   },
   "source": [
    "After extracting its contents, assign variables with the proper file path for the training and validation set."
   ]
  },
  {
   "cell_type": "markdown",
   "metadata": {
    "colab_type": "text",
    "id": "ZdrHHTy2VrV3"
   },
   "source": [
    "### Understand the data"
   ]
  },
  {
   "cell_type": "markdown",
   "metadata": {
    "colab_type": "text",
    "id": "8Lp-0ejxOtP1"
   },
   "source": [
    "For convenience, set up variables to use while pre-processing the dataset and training the network."
   ]
  },
  {
   "cell_type": "markdown",
   "metadata": {
    "colab_type": "text",
    "id": "INn-cOn1VrWC"
   },
   "source": [
    "## Data preparation"
   ]
  },
  {
   "cell_type": "markdown",
   "metadata": {
    "colab_type": "text",
    "id": "5Jfk6aSAVrWD"
   },
   "source": [
    "Format the images into appropriately pre-processed floating point tensors before feeding to the network:\n",
    "\n",
    "1. Read images from the disk.\n",
    "2. Decode contents of these images and convert it into proper grid format as per their RGB content.\n",
    "3. Convert them into floating point tensors.\n",
    "4. Rescale the tensors from values between 0 and 255 to values between 0 and 1, as neural networks prefer to deal with small input values.\n",
    "\n",
    "Fortunately, all these tasks can be done with the `ImageDataGenerator` class provided by `tf.keras`. It can read images from disk and preprocess them into proper tensors. It will also set up generators that convert these images into batches of tensors—helpful when training the network."
   ]
  },
  {
   "cell_type": "markdown",
   "metadata": {
    "colab_type": "text",
    "id": "RLciCR_FVrWH"
   },
   "source": [
    "After defining the generators for training and validation images, the `flow_from_directory` method load images from the disk, applies rescaling, and resizes the images into the required dimensions."
   ]
  },
  {
   "cell_type": "code",
   "execution_count": 0,
   "metadata": {
    "colab": {},
    "colab_type": "code",
    "id": "3NqNselLVrWA"
   },
   "outputs": [],
   "source": [
    "\n",
    "IMG_HEIGHT = 150\n",
    "IMG_WIDTH = 150\n",
    "BATCH_SIZE=64"
   ]
  },
  {
   "cell_type": "code",
   "execution_count": 52,
   "metadata": {
    "colab": {
     "base_uri": "https://localhost:8080/",
     "height": 50
    },
    "colab_type": "code",
    "executionInfo": {
     "elapsed": 1186,
     "status": "ok",
     "timestamp": 1581976468162,
     "user": {
      "displayName": "Conrard TETSASSI",
      "photoUrl": "",
      "userId": "08359346339446887866"
     },
     "user_tz": 300
    },
    "id": "qV1DDNkKxSL_",
    "outputId": "1f62d9cc-9413-429b-83ff-9cdad5978bb2"
   },
   "outputs": [
    {
     "name": "stdout",
     "output_type": "stream",
     "text": [
      "Found 15702 images belonging to 10 classes.\n",
      "Found 6722 images belonging to 10 classes.\n"
     ]
    }
   ],
   "source": [
    "\n",
    "train_datagen = ImageDataGenerator(rescale=1./255, validation_split=0.3,)\n",
    "val_datagen = ImageDataGenerator(rescale=1./255, validation_split=0.3)\n",
    "\n",
    "train_generator = train_datagen.flow_from_directory(\n",
    "        data_dir+\"train/\",\n",
    "        target_size=(IMG_HEIGHT, IMG_WIDTH),\n",
    "        batch_size=BATCH_SIZE,\n",
    "        class_mode='categorical', subset=\"training\")\n",
    "\n",
    "val_generator = val_datagen.flow_from_directory(\n",
    "        data_dir+\"train/\",\n",
    "        target_size=(IMG_HEIGHT, IMG_WIDTH),\n",
    "        batch_size=BATCH_SIZE,\n",
    "        class_mode='categorical', subset=\"validation\")"
   ]
  },
  {
   "cell_type": "code",
   "execution_count": 0,
   "metadata": {
    "colab": {},
    "colab_type": "code",
    "id": "F0F9XXhF9Ndf"
   },
   "outputs": [],
   "source": [
    "total_train =15702 \n",
    "total_val = 6722"
   ]
  },
  {
   "cell_type": "code",
   "execution_count": 0,
   "metadata": {
    "colab": {},
    "colab_type": "code",
    "id": "K_DcGMcW5mXR"
   },
   "outputs": [],
   "source": [
    "def read_image(path):\n",
    "    image = cv2.imread(path, cv2.IMREAD_COLOR)\n",
    "    image = cv2.cvtColor(image, cv2.COLOR_BGR2RGB)\n",
    "    return image\n",
    "\n",
    "labels = ['c0', 'c1', 'c2', 'c3', 'c4', 'c5', 'c6', 'c7', 'c8', 'c9']\n",
    "\n",
    "col = {'c0': 'safe driving',\n",
    "'c1': 'texting - right',\n",
    "'c2': 'talking on the phone - right',\n",
    "'c3': 'texting - left',\n",
    "'c4': 'talking on the phone - left',\n",
    "'c5':'operating the radio',\n",
    "'c6': 'drinking',\n",
    "'c7': 'reaching behind',\n",
    "'c8': 'hair and makeup',\n",
    "'c9': 'talking to passenger'}"
   ]
  },
  {
   "cell_type": "markdown",
   "metadata": {
    "colab_type": "text",
    "id": "hyexPJ8CVrWP"
   },
   "source": [
    "### Visualize training images"
   ]
  },
  {
   "cell_type": "markdown",
   "metadata": {
    "colab_type": "text",
    "id": "60CnhEL4VrWQ"
   },
   "source": [
    "Visualize the training images by extracting a batch of images from the training generator—which is 32 images in this example—then plot five of them with `matplotlib`."
   ]
  },
  {
   "cell_type": "code",
   "execution_count": 14,
   "metadata": {
    "colab": {
     "base_uri": "https://localhost:8080/",
     "height": 1000,
     "output_embedded_package_id": "1TG6iVkeecOwjSRjTfdN3Zs1kWK435vnn"
    },
    "colab_type": "code",
    "executionInfo": {
     "elapsed": 4474,
     "status": "ok",
     "timestamp": 1581959182594,
     "user": {
      "displayName": "Conrard TETSASSI",
      "photoUrl": "",
      "userId": "08359346339446887866"
     },
     "user_tz": 300
    },
    "id": "6_xxXSRe50vP",
    "outputId": "10b0f88e-059d-4534-f32f-56ccdfa87cf7"
   },
   "outputs": [
    {
     "data": {
      "text/plain": [
       "Output hidden; open in https://colab.research.google.com to view."
      ]
     },
     "metadata": {},
     "output_type": "display_data"
    }
   ],
   "source": [
    "for label in labels:\n",
    "    f, ax = plt.subplots(figsize=(12, 10))\n",
    "    files = glob('{}/train/{}/*.jpg'.format(data_dir, label))\n",
    "    \n",
    "    print('\\t\\t\\t\\t# {} : {}'.format(label, col[label]))\n",
    "    for x in range(2):\n",
    "        plt.subplot(1, 2, x+1)\n",
    "        image = read_image(files[x])\n",
    "        plt.imshow(image)\n",
    "        plt.axis('off')\n",
    "    plt.show()"
   ]
  },
  {
   "cell_type": "markdown",
   "metadata": {
    "colab_type": "text",
    "id": "b5Ej-HLGVrWZ"
   },
   "source": [
    "## Create the model 1"
   ]
  },
  {
   "cell_type": "markdown",
   "metadata": {
    "colab_type": "text",
    "id": "wEgW4i18VrWZ"
   },
   "source": [
    "The model consists of three convolution blocks with a max pool layer in each of them. There's a fully connected layer with 512 units on top of it that is activated by a `relu`` activation function."
   ]
  },
  {
   "cell_type": "markdown",
   "metadata": {
    "colab_type": "text",
    "id": "PI5cdkMQVrWc"
   },
   "source": [
    "### Compile the model\n",
    "\n",
    "For this tutorial, choose the *ADAM* optimizer and *binary cross entropy* loss function. To view training and validation accuracy for each training epoch, pass the `metrics` argument."
   ]
  },
  {
   "cell_type": "markdown",
   "metadata": {
    "colab_type": "text",
    "id": "2YmQZ3TAVrWg"
   },
   "source": [
    "### Model summary\n",
    "\n",
    "View all the layers of the network using the model's `summary` method:"
   ]
  },
  {
   "cell_type": "markdown",
   "metadata": {
    "colab_type": "text",
    "id": "N06iqE8VVrWj"
   },
   "source": [
    "### Train the model"
   ]
  },
  {
   "cell_type": "markdown",
   "metadata": {
    "colab_type": "text",
    "id": "oub9RtoFVrWk"
   },
   "source": [
    "Use the `fit_generator` method of the `ImageDataGenerator` class to train the network."
   ]
  },
  {
   "cell_type": "markdown",
   "metadata": {
    "colab_type": "text",
    "id": "ojJNteAGVrWo"
   },
   "source": [
    "### Visualize training results"
   ]
  },
  {
   "cell_type": "markdown",
   "metadata": {
    "colab_type": "text",
    "id": "LZPYT-EmVrWo"
   },
   "source": [
    "Now visualize the results after training the network."
   ]
  },
  {
   "cell_type": "markdown",
   "metadata": {
    "colab_type": "text",
    "id": "kDnr50l2VrWu"
   },
   "source": [
    "As you can see from the plots, training accuracy and validation accuracy are off by large margin and the model has achieved only around **70%** accuracy on the validation set.\n",
    "\n",
    "Let's look at what went wrong and try to increase overall performance of the model."
   ]
  },
  {
   "cell_type": "code",
   "execution_count": 21,
   "metadata": {
    "colab": {
     "base_uri": "https://localhost:8080/",
     "height": 102
    },
    "colab_type": "code",
    "executionInfo": {
     "elapsed": 1424,
     "status": "ok",
     "timestamp": 1581966027953,
     "user": {
      "displayName": "Conrard TETSASSI",
      "photoUrl": "",
      "userId": "08359346339446887866"
     },
     "user_tz": 300
    },
    "id": "2H8MdT8E0b-8",
    "outputId": "0f53012b-8e37-40f5-a3ee-bd840e62762e"
   },
   "outputs": [
    {
     "name": "stdout",
     "output_type": "stream",
     "text": [
      "WARNING:tensorflow:From /tensorflow-2.1.0/python3.6/tensorflow_core/python/ops/resource_variable_ops.py:1786: calling BaseResourceVariable.__init__ (from tensorflow.python.ops.resource_variable_ops) with constraint is deprecated and will be removed in a future version.\n",
      "Instructions for updating:\n",
      "If using Keras pass *_constraint arguments to layers.\n",
      "INFO:tensorflow:Assets written to: /content/drive/My Drive/data/distracted//classifier1.model/assets\n"
     ]
    }
   ],
   "source": [
    "model1.save(workdir+'/classifier1.model')"
   ]
  },
  {
   "cell_type": "markdown",
   "metadata": {
    "colab_type": "text",
    "id": "YVh9lwsiwFaH"
   },
   "source": [
    "## Create the model 2 :  softmax activation and adam optimizer "
   ]
  },
  {
   "cell_type": "markdown",
   "metadata": {
    "colab_type": "text",
    "id": "HXI1_TAI4p3y"
   },
   "source": [
    "I'll develop the model with a total of 3 Convolutional layers, then a Flatten layer and then 3 Dense layers. I'll use the optimizer as adam, and loss as categorical_crossentropy."
   ]
  },
  {
   "cell_type": "code",
   "execution_count": 55,
   "metadata": {
    "colab": {
     "base_uri": "https://localhost:8080/",
     "height": 440
    },
    "colab_type": "code",
    "executionInfo": {
     "elapsed": 401,
     "status": "ok",
     "timestamp": 1581976907655,
     "user": {
      "displayName": "Conrard TETSASSI",
      "photoUrl": "",
      "userId": "08359346339446887866"
     },
     "user_tz": 300
    },
    "id": "Q8pcf3634wJK",
    "outputId": "0b756b4f-3e72-4571-cef0-f85892702198"
   },
   "outputs": [
    {
     "name": "stdout",
     "output_type": "stream",
     "text": [
      "Model: \"sequential_4\"\n",
      "_________________________________________________________________\n",
      "Layer (type)                 Output Shape              Param #   \n",
      "=================================================================\n",
      "conv2d_12 (Conv2D)           (None, 150, 150, 16)      448       \n",
      "_________________________________________________________________\n",
      "max_pooling2d_12 (MaxPooling (None, 75, 75, 16)        0         \n",
      "_________________________________________________________________\n",
      "conv2d_13 (Conv2D)           (None, 75, 75, 32)        4640      \n",
      "_________________________________________________________________\n",
      "max_pooling2d_13 (MaxPooling (None, 37, 37, 32)        0         \n",
      "_________________________________________________________________\n",
      "conv2d_14 (Conv2D)           (None, 37, 37, 64)        18496     \n",
      "_________________________________________________________________\n",
      "max_pooling2d_14 (MaxPooling (None, 18, 18, 64)        0         \n",
      "_________________________________________________________________\n",
      "flatten_4 (Flatten)          (None, 20736)             0         \n",
      "_________________________________________________________________\n",
      "dense_8 (Dense)              (None, 512)               10617344  \n",
      "_________________________________________________________________\n",
      "dense_9 (Dense)              (None, 10)                5130      \n",
      "=================================================================\n",
      "Total params: 10,646,058\n",
      "Trainable params: 10,646,058\n",
      "Non-trainable params: 0\n",
      "_________________________________________________________________\n"
     ]
    }
   ],
   "source": [
    "model2 = Sequential([\n",
    "    Conv2D(16, 3, padding='same', activation='relu', input_shape=(IMG_HEIGHT, IMG_WIDTH ,3)),\n",
    "    MaxPooling2D(),\n",
    "    Conv2D(32, 3, padding='same', activation='relu'),\n",
    "    MaxPooling2D(),\n",
    "    Conv2D(64, 3, padding='same', activation='relu'),\n",
    "    MaxPooling2D(),\n",
    "    Flatten(),\n",
    "    Dense(512, activation='relu'), \n",
    "    Dense(10, activation='softmax')\n",
    "])\n",
    "model2.compile(optimizer = 'adam', loss = 'categorical_crossentropy', metrics = ['accuracy'])\n",
    "model2.summary()\n"
   ]
  },
  {
   "cell_type": "code",
   "execution_count": 0,
   "metadata": {
    "colab": {},
    "colab_type": "code",
    "id": "TiMuouQQ5Hjd"
   },
   "outputs": [],
   "source": []
  },
  {
   "cell_type": "code",
   "execution_count": 56,
   "metadata": {
    "colab": {
     "base_uri": "https://localhost:8080/",
     "height": 1000
    },
    "colab_type": "code",
    "executionInfo": {
     "elapsed": 3661835,
     "status": "ok",
     "timestamp": 1581980573195,
     "user": {
      "displayName": "Conrard TETSASSI",
      "photoUrl": "",
      "userId": "08359346339446887866"
     },
     "user_tz": 300
    },
    "id": "FYraK8k6Bjgg",
    "outputId": "abce6245-f583-42a6-cee9-b2f9ac642245"
   },
   "outputs": [
    {
     "name": "stdout",
     "output_type": "stream",
     "text": [
      "WARNING:tensorflow:sample_weight modes were coerced from\n",
      "  ...\n",
      "    to  \n",
      "  ['...']\n",
      "WARNING:tensorflow:sample_weight modes were coerced from\n",
      "  ...\n",
      "    to  \n",
      "  ['...']\n",
      "Train for 245 steps, validate for 105 steps\n",
      "Epoch 1/30\n",
      "245/245 [==============================] - 122s 498ms/step - loss: 0.6050 - accuracy: 0.8004 - val_loss: 0.1344 - val_accuracy: 0.9625\n",
      "Epoch 2/30\n",
      "245/245 [==============================] - 120s 491ms/step - loss: 0.0570 - accuracy: 0.9829 - val_loss: 0.0599 - val_accuracy: 0.9824\n",
      "Epoch 3/30\n",
      "245/245 [==============================] - 122s 499ms/step - loss: 0.0299 - accuracy: 0.9910 - val_loss: 0.0445 - val_accuracy: 0.9881\n",
      "Epoch 4/30\n",
      "245/245 [==============================] - 121s 494ms/step - loss: 0.0130 - accuracy: 0.9961 - val_loss: 0.0476 - val_accuracy: 0.9887\n",
      "Epoch 5/30\n",
      "245/245 [==============================] - 121s 496ms/step - loss: 0.0214 - accuracy: 0.9937 - val_loss: 0.0441 - val_accuracy: 0.9911\n",
      "Epoch 6/30\n",
      "245/245 [==============================] - 122s 500ms/step - loss: 0.0076 - accuracy: 0.9983 - val_loss: 0.0245 - val_accuracy: 0.9942\n",
      "Epoch 7/30\n",
      "245/245 [==============================] - 121s 494ms/step - loss: 0.0020 - accuracy: 0.9996 - val_loss: 0.0280 - val_accuracy: 0.9929\n",
      "Epoch 8/30\n",
      "245/245 [==============================] - 120s 489ms/step - loss: 0.0025 - accuracy: 0.9995 - val_loss: 0.0203 - val_accuracy: 0.9954\n",
      "Epoch 9/30\n",
      "245/245 [==============================] - 120s 491ms/step - loss: 9.6685e-04 - accuracy: 0.9997 - val_loss: 0.0156 - val_accuracy: 0.9961\n",
      "Epoch 10/30\n",
      "245/245 [==============================] - 120s 489ms/step - loss: 3.4292e-05 - accuracy: 1.0000 - val_loss: 0.0170 - val_accuracy: 0.9961\n",
      "Epoch 11/30\n",
      "245/245 [==============================] - 120s 488ms/step - loss: 1.7414e-05 - accuracy: 1.0000 - val_loss: 0.0174 - val_accuracy: 0.9961\n",
      "Epoch 12/30\n",
      "245/245 [==============================] - 120s 488ms/step - loss: 1.2648e-05 - accuracy: 1.0000 - val_loss: 0.0178 - val_accuracy: 0.9963\n",
      "Epoch 13/30\n",
      "245/245 [==============================] - 119s 487ms/step - loss: 9.6537e-06 - accuracy: 1.0000 - val_loss: 0.0182 - val_accuracy: 0.9963\n",
      "Epoch 14/30\n",
      "245/245 [==============================] - 120s 489ms/step - loss: 7.6953e-06 - accuracy: 1.0000 - val_loss: 0.0185 - val_accuracy: 0.9964\n",
      "Epoch 15/30\n",
      "245/245 [==============================] - 119s 487ms/step - loss: 6.2134e-06 - accuracy: 1.0000 - val_loss: 0.0188 - val_accuracy: 0.9964\n",
      "Epoch 16/30\n",
      "245/245 [==============================] - 120s 488ms/step - loss: 5.1775e-06 - accuracy: 1.0000 - val_loss: 0.0190 - val_accuracy: 0.9964\n",
      "Epoch 17/30\n",
      "245/245 [==============================] - 121s 495ms/step - loss: 4.3143e-06 - accuracy: 1.0000 - val_loss: 0.0193 - val_accuracy: 0.9964\n",
      "Epoch 18/30\n",
      "245/245 [==============================] - 121s 495ms/step - loss: 3.6633e-06 - accuracy: 1.0000 - val_loss: 0.0195 - val_accuracy: 0.9966\n",
      "Epoch 19/30\n",
      "245/245 [==============================] - 126s 514ms/step - loss: 3.1302e-06 - accuracy: 1.0000 - val_loss: 0.0197 - val_accuracy: 0.9964\n",
      "Epoch 20/30\n",
      "245/245 [==============================] - 128s 522ms/step - loss: 2.6767e-06 - accuracy: 1.0000 - val_loss: 0.0200 - val_accuracy: 0.9966\n",
      "Epoch 21/30\n",
      "245/245 [==============================] - 124s 508ms/step - loss: 2.3045e-06 - accuracy: 1.0000 - val_loss: 0.0202 - val_accuracy: 0.9966\n",
      "Epoch 22/30\n",
      "245/245 [==============================] - 125s 510ms/step - loss: 1.9875e-06 - accuracy: 1.0000 - val_loss: 0.0204 - val_accuracy: 0.9966\n",
      "Epoch 23/30\n",
      "245/245 [==============================] - 123s 502ms/step - loss: 1.7099e-06 - accuracy: 1.0000 - val_loss: 0.0206 - val_accuracy: 0.9964\n",
      "Epoch 24/30\n",
      "245/245 [==============================] - 124s 507ms/step - loss: 1.4890e-06 - accuracy: 1.0000 - val_loss: 0.0208 - val_accuracy: 0.9964\n",
      "Epoch 25/30\n",
      "245/245 [==============================] - 124s 507ms/step - loss: 1.2953e-06 - accuracy: 1.0000 - val_loss: 0.0210 - val_accuracy: 0.9966\n",
      "Epoch 26/30\n",
      "245/245 [==============================] - 123s 503ms/step - loss: 1.1191e-06 - accuracy: 1.0000 - val_loss: 0.0212 - val_accuracy: 0.9964\n",
      "Epoch 27/30\n",
      "245/245 [==============================] - 125s 509ms/step - loss: 9.8843e-07 - accuracy: 1.0000 - val_loss: 0.0214 - val_accuracy: 0.9964\n",
      "Epoch 28/30\n",
      "245/245 [==============================] - 123s 501ms/step - loss: 8.5081e-07 - accuracy: 1.0000 - val_loss: 0.0217 - val_accuracy: 0.9964\n",
      "Epoch 29/30\n",
      "245/245 [==============================] - 124s 505ms/step - loss: 7.5622e-07 - accuracy: 1.0000 - val_loss: 0.0218 - val_accuracy: 0.9964\n",
      "Epoch 30/30\n",
      "245/245 [==============================] - 121s 496ms/step - loss: 6.6112e-07 - accuracy: 1.0000 - val_loss: 0.0220 - val_accuracy: 0.9966\n"
     ]
    }
   ],
   "source": [
    "#BATCH_SIZE = 64\n",
    "epochs = 30\n",
    "history = model2.fit_generator(\n",
    "    train_generator,\n",
    "    steps_per_epoch=total_train // BATCH_SIZE,\n",
    "    epochs=epochs,\n",
    "    validation_data=val_generator,\n",
    "    validation_steps=total_val // BATCH_SIZE\n",
    ")"
   ]
  },
  {
   "cell_type": "code",
   "execution_count": 57,
   "metadata": {
    "colab": {
     "base_uri": "https://localhost:8080/",
     "height": 498
    },
    "colab_type": "code",
    "executionInfo": {
     "elapsed": 562,
     "status": "ok",
     "timestamp": 1581980666891,
     "user": {
      "displayName": "Conrard TETSASSI",
      "photoUrl": "",
      "userId": "08359346339446887866"
     },
     "user_tz": 300
    },
    "id": "1HUhKn6GB1YL",
    "outputId": "3fe4d7c8-6e09-42e0-8926-4330acdb9dc1"
   },
   "outputs": [
    {
     "data": {
      "image/png": "[encoded data removed]",
      "text/plain": [
       "<Figure size 576x576 with 2 Axes>"
      ]
     },
     "metadata": {
      "tags": []
     },
     "output_type": "display_data"
    }
   ],
   "source": [
    "acc = history.history['accuracy']\n",
    "val_acc = history.history['val_accuracy']\n",
    "\n",
    "loss=history.history['loss']\n",
    "val_loss=history.history['val_loss']\n",
    "\n",
    "epochs_range = range(epochs)\n",
    "\n",
    "plt.figure(figsize=(8, 8))\n",
    "plt.subplot(1, 2, 1)\n",
    "plt.plot(epochs_range, acc, label='Training Accuracy')\n",
    "plt.plot(epochs_range, val_acc, label='Validation Accuracy')\n",
    "plt.legend(loc='lower right')\n",
    "plt.title('Training and Validation Accuracy')\n",
    "\n",
    "plt.subplot(1, 2, 2)\n",
    "plt.plot(epochs_range, loss, label='Training Loss')\n",
    "plt.plot(epochs_range, val_loss, label='Validation Loss')\n",
    "plt.legend(loc='upper right')\n",
    "plt.title('Training and Validation Loss')\n",
    "plt.show()"
   ]
  },
  {
   "cell_type": "code",
   "execution_count": 58,
   "metadata": {
    "colab": {
     "base_uri": "https://localhost:8080/",
     "height": 33
    },
    "colab_type": "code",
    "executionInfo": {
     "elapsed": 1489,
     "status": "ok",
     "timestamp": 1581980724994,
     "user": {
      "displayName": "Conrard TETSASSI",
      "photoUrl": "",
      "userId": "08359346339446887866"
     },
     "user_tz": 300
    },
    "id": "LB4VjqU8CH90",
    "outputId": "62c626f7-11dc-49c1-ade3-47fabfae174e"
   },
   "outputs": [
    {
     "name": "stdout",
     "output_type": "stream",
     "text": [
      "INFO:tensorflow:Assets written to: /content/drive/My Drive/data/distracted//classifier2.model/assets\n"
     ]
    }
   ],
   "source": [
    "model2.save(workdir+'/classifier2.model')"
   ]
  },
  {
   "cell_type": "markdown",
   "metadata": {
    "colab_type": "text",
    "id": "SU2eWvS7OXv6"
   },
   "source": [
    "## Create the model 2 :  softmax activation and adam sgd"
   ]
  },
  {
   "cell_type": "code",
   "execution_count": 63,
   "metadata": {
    "colab": {
     "base_uri": "https://localhost:8080/",
     "height": 440
    },
    "colab_type": "code",
    "executionInfo": {
     "elapsed": 637,
     "status": "ok",
     "timestamp": 1581980856987,
     "user": {
      "displayName": "Conrard TETSASSI",
      "photoUrl": "",
      "userId": "08359346339446887866"
     },
     "user_tz": 300
    },
    "id": "bbo7U2GiOYKE",
    "outputId": "fe233da5-a154-47de-87d9-02854e9720be"
   },
   "outputs": [
    {
     "name": "stdout",
     "output_type": "stream",
     "text": [
      "Model: \"sequential_7\"\n",
      "_________________________________________________________________\n",
      "Layer (type)                 Output Shape              Param #   \n",
      "=================================================================\n",
      "conv2d_21 (Conv2D)           (None, 150, 150, 16)      448       \n",
      "_________________________________________________________________\n",
      "max_pooling2d_21 (MaxPooling (None, 75, 75, 16)        0         \n",
      "_________________________________________________________________\n",
      "conv2d_22 (Conv2D)           (None, 75, 75, 32)        4640      \n",
      "_________________________________________________________________\n",
      "max_pooling2d_22 (MaxPooling (None, 37, 37, 32)        0         \n",
      "_________________________________________________________________\n",
      "conv2d_23 (Conv2D)           (None, 37, 37, 64)        18496     \n",
      "_________________________________________________________________\n",
      "max_pooling2d_23 (MaxPooling (None, 18, 18, 64)        0         \n",
      "_________________________________________________________________\n",
      "flatten_7 (Flatten)          (None, 20736)             0         \n",
      "_________________________________________________________________\n",
      "dense_14 (Dense)             (None, 512)               10617344  \n",
      "_________________________________________________________________\n",
      "dense_15 (Dense)             (None, 10)                5130      \n",
      "=================================================================\n",
      "Total params: 10,646,058\n",
      "Trainable params: 10,646,058\n",
      "Non-trainable params: 0\n",
      "_________________________________________________________________\n"
     ]
    }
   ],
   "source": [
    "model21 = Sequential([\n",
    "    Conv2D(16, 3, padding='same', activation='relu', input_shape=(IMG_HEIGHT, IMG_WIDTH ,3)),\n",
    "    MaxPooling2D(),\n",
    "    Conv2D(32, 3, padding='same', activation='relu'),\n",
    "    MaxPooling2D(),\n",
    "    Conv2D(64, 3, padding='same', activation='relu'),\n",
    "    MaxPooling2D(),\n",
    "    Flatten(),\n",
    "    Dense(512, activation='relu'), \n",
    "    Dense(10, activation='softmax')\n",
    "])\n",
    "sgd = SGD(lr=0.01, decay=1e-6, momentum=0.9, nesterov=True)\n",
    "model21.compile(optimizer = sgd, loss = 'categorical_crossentropy', metrics = ['accuracy'])\n",
    "model21.summary()"
   ]
  },
  {
   "cell_type": "code",
   "execution_count": 64,
   "metadata": {
    "colab": {
     "base_uri": "https://localhost:8080/",
     "height": 1000
    },
    "colab_type": "code",
    "executionInfo": {
     "elapsed": 663041,
     "status": "ok",
     "timestamp": 1581984515856,
     "user": {
      "displayName": "Conrard TETSASSI",
      "photoUrl": "",
      "userId": "08359346339446887866"
     },
     "user_tz": 300
    },
    "id": "bzvDH6Y4O1YB",
    "outputId": "671170e0-95fe-4f50-f2e5-8e84928a6d31"
   },
   "outputs": [
    {
     "name": "stdout",
     "output_type": "stream",
     "text": [
      "WARNING:tensorflow:sample_weight modes were coerced from\n",
      "  ...\n",
      "    to  \n",
      "  ['...']\n",
      "WARNING:tensorflow:sample_weight modes were coerced from\n",
      "  ...\n",
      "    to  \n",
      "  ['...']\n",
      "Train for 245 steps, validate for 105 steps\n",
      "Epoch 1/30\n",
      "245/245 [==============================] - 122s 497ms/step - loss: 0.9835 - accuracy: 0.6636 - val_loss: 0.2029 - val_accuracy: 0.9409\n",
      "Epoch 2/30\n",
      "245/245 [==============================] - 126s 514ms/step - loss: 0.0966 - accuracy: 0.9734 - val_loss: 0.0791 - val_accuracy: 0.9795\n",
      "Epoch 3/30\n",
      "245/245 [==============================] - 123s 501ms/step - loss: 0.0406 - accuracy: 0.9880 - val_loss: 0.0453 - val_accuracy: 0.9882\n",
      "Epoch 4/30\n",
      "245/245 [==============================] - 121s 494ms/step - loss: 0.0231 - accuracy: 0.9923 - val_loss: 0.0347 - val_accuracy: 0.9902\n",
      "Epoch 5/30\n",
      "245/245 [==============================] - 122s 496ms/step - loss: 0.0110 - accuracy: 0.9969 - val_loss: 0.0309 - val_accuracy: 0.9927\n",
      "Epoch 6/30\n",
      "245/245 [==============================] - 121s 492ms/step - loss: 0.0046 - accuracy: 0.9989 - val_loss: 0.0328 - val_accuracy: 0.9932\n",
      "Epoch 7/30\n",
      "245/245 [==============================] - 121s 495ms/step - loss: 0.0017 - accuracy: 0.9996 - val_loss: 0.0294 - val_accuracy: 0.9929\n",
      "Epoch 8/30\n",
      "245/245 [==============================] - 121s 493ms/step - loss: 0.0040 - accuracy: 0.9992 - val_loss: 0.0219 - val_accuracy: 0.9949\n",
      "Epoch 9/30\n",
      "245/245 [==============================] - 126s 515ms/step - loss: 0.0016 - accuracy: 0.9997 - val_loss: 0.0192 - val_accuracy: 0.9951\n",
      "Epoch 10/30\n",
      "245/245 [==============================] - 126s 515ms/step - loss: 1.4815e-04 - accuracy: 1.0000 - val_loss: 0.0197 - val_accuracy: 0.9952\n",
      "Epoch 11/30\n",
      "245/245 [==============================] - 121s 495ms/step - loss: 7.3889e-05 - accuracy: 1.0000 - val_loss: 0.0211 - val_accuracy: 0.9954\n",
      "Epoch 12/30\n",
      "245/245 [==============================] - 122s 497ms/step - loss: 5.6770e-05 - accuracy: 1.0000 - val_loss: 0.0213 - val_accuracy: 0.9954\n",
      "Epoch 13/30\n",
      "245/245 [==============================] - 121s 495ms/step - loss: 4.7043e-05 - accuracy: 1.0000 - val_loss: 0.0213 - val_accuracy: 0.9954\n",
      "Epoch 14/30\n",
      "245/245 [==============================] - 122s 498ms/step - loss: 4.0982e-05 - accuracy: 1.0000 - val_loss: 0.0221 - val_accuracy: 0.9954\n",
      "Epoch 15/30\n",
      "245/245 [==============================] - 122s 499ms/step - loss: 3.6512e-05 - accuracy: 1.0000 - val_loss: 0.0222 - val_accuracy: 0.9952\n",
      "Epoch 16/30\n",
      "245/245 [==============================] - 122s 499ms/step - loss: 3.2593e-05 - accuracy: 1.0000 - val_loss: 0.0225 - val_accuracy: 0.9948\n",
      "Epoch 17/30\n",
      "245/245 [==============================] - 122s 498ms/step - loss: 2.9659e-05 - accuracy: 1.0000 - val_loss: 0.0225 - val_accuracy: 0.9951\n",
      "Epoch 18/30\n",
      "245/245 [==============================] - 120s 491ms/step - loss: 2.7141e-05 - accuracy: 1.0000 - val_loss: 0.0226 - val_accuracy: 0.9951\n",
      "Epoch 19/30\n",
      "245/245 [==============================] - 120s 490ms/step - loss: 2.4916e-05 - accuracy: 1.0000 - val_loss: 0.0227 - val_accuracy: 0.9952\n",
      "Epoch 20/30\n",
      "245/245 [==============================] - 122s 499ms/step - loss: 2.2989e-05 - accuracy: 1.0000 - val_loss: 0.0227 - val_accuracy: 0.9952\n",
      "Epoch 21/30\n",
      "245/245 [==============================] - 121s 493ms/step - loss: 2.1902e-05 - accuracy: 1.0000 - val_loss: 0.0231 - val_accuracy: 0.9949\n",
      "Epoch 22/30\n",
      "245/245 [==============================] - 122s 496ms/step - loss: 2.0512e-05 - accuracy: 1.0000 - val_loss: 0.0230 - val_accuracy: 0.9949\n",
      "Epoch 23/30\n",
      "245/245 [==============================] - 120s 490ms/step - loss: 1.9230e-05 - accuracy: 1.0000 - val_loss: 0.0232 - val_accuracy: 0.9949\n",
      "Epoch 24/30\n",
      "245/245 [==============================] - 119s 488ms/step - loss: 1.8255e-05 - accuracy: 1.0000 - val_loss: 0.0233 - val_accuracy: 0.9949\n",
      "Epoch 25/30\n",
      "245/245 [==============================] - 121s 496ms/step - loss: 1.7246e-05 - accuracy: 1.0000 - val_loss: 0.0234 - val_accuracy: 0.9949\n",
      "Epoch 26/30\n",
      "245/245 [==============================] - 121s 494ms/step - loss: 1.6548e-05 - accuracy: 1.0000 - val_loss: 0.0235 - val_accuracy: 0.9949\n",
      "Epoch 27/30\n",
      "245/245 [==============================] - 122s 497ms/step - loss: 1.5726e-05 - accuracy: 1.0000 - val_loss: 0.0235 - val_accuracy: 0.9951\n",
      "Epoch 28/30\n",
      "245/245 [==============================] - 121s 494ms/step - loss: 1.5044e-05 - accuracy: 1.0000 - val_loss: 0.0237 - val_accuracy: 0.9949\n",
      "Epoch 29/30\n",
      "245/245 [==============================] - 121s 494ms/step - loss: 1.4353e-05 - accuracy: 1.0000 - val_loss: 0.0237 - val_accuracy: 0.9949\n",
      "Epoch 30/30\n",
      "245/245 [==============================] - 122s 498ms/step - loss: 1.3825e-05 - accuracy: 1.0000 - val_loss: 0.0238 - val_accuracy: 0.9948\n"
     ]
    }
   ],
   "source": [
    "#BATCH_SIZE = 64\n",
    "epochs = 30\n",
    "history = model21.fit_generator(\n",
    "    train_generator,\n",
    "    steps_per_epoch=total_train // BATCH_SIZE,\n",
    "    epochs=epochs,\n",
    "    validation_data=val_generator,\n",
    "    validation_steps=total_val // BATCH_SIZE\n",
    ")"
   ]
  },
  {
   "cell_type": "code",
   "execution_count": 65,
   "metadata": {
    "colab": {
     "base_uri": "https://localhost:8080/",
     "height": 498
    },
    "colab_type": "code",
    "executionInfo": {
     "elapsed": 596,
     "status": "ok",
     "timestamp": 1581984533447,
     "user": {
      "displayName": "Conrard TETSASSI",
      "photoUrl": "",
      "userId": "08359346339446887866"
     },
     "user_tz": 300
    },
    "id": "vyqCMpLHO6HB",
    "outputId": "9b276775-16a8-409e-8a2c-131a9f8a21f7"
   },
   "outputs": [
    {
     "data": {
      "image/png": "[encoded data removed]",
      "text/plain": [
       "<Figure size 576x576 with 2 Axes>"
      ]
     },
     "metadata": {
      "tags": []
     },
     "output_type": "display_data"
    }
   ],
   "source": [
    "acc = history.history['accuracy']\n",
    "val_acc = history.history['val_accuracy']\n",
    "\n",
    "loss=history.history['loss']\n",
    "val_loss=history.history['val_loss']\n",
    "\n",
    "epochs_range = range(epochs)\n",
    "\n",
    "plt.figure(figsize=(8, 8))\n",
    "plt.subplot(1, 2, 1)\n",
    "plt.plot(epochs_range, acc, label='Training Accuracy')\n",
    "plt.plot(epochs_range, val_acc, label='Validation Accuracy')\n",
    "plt.legend(loc='lower right')\n",
    "plt.title('Training and Validation Accuracy')\n",
    "\n",
    "plt.subplot(1, 2, 2)\n",
    "plt.plot(epochs_range, loss, label='Training Loss')\n",
    "plt.plot(epochs_range, val_loss, label='Validation Loss')\n",
    "plt.legend(loc='upper right')\n",
    "plt.title('Training and Validation Loss')\n",
    "plt.show()"
   ]
  },
  {
   "cell_type": "code",
   "execution_count": 66,
   "metadata": {
    "colab": {
     "base_uri": "https://localhost:8080/",
     "height": 33
    },
    "colab_type": "code",
    "executionInfo": {
     "elapsed": 1167,
     "status": "ok",
     "timestamp": 1581984580424,
     "user": {
      "displayName": "Conrard TETSASSI",
      "photoUrl": "",
      "userId": "08359346339446887866"
     },
     "user_tz": 300
    },
    "id": "DmylkZfJQvZp",
    "outputId": "2e48927c-0dab-43a3-fac4-4af727bc6206"
   },
   "outputs": [
    {
     "name": "stdout",
     "output_type": "stream",
     "text": [
      "INFO:tensorflow:Assets written to: /content/drive/My Drive/data/distracted//classifier21.model/assets\n"
     ]
    }
   ],
   "source": [
    "model21.save(workdir+'/classifier21.model')"
   ]
  },
  {
   "cell_type": "markdown",
   "metadata": {
    "colab_type": "text",
    "id": "56bjr0K5G9FI"
   },
   "source": [
    "##Create the model 3: sigmoid activation and adam optimizer"
   ]
  },
  {
   "cell_type": "code",
   "execution_count": 0,
   "metadata": {
    "colab": {},
    "colab_type": "code",
    "id": "uhlC_UPT5eHk"
   },
   "outputs": [],
   "source": [
    "def create_model(activation,optimizer):\n",
    "  model = Sequential([\n",
    "      Conv2D(16, 3, padding='same', activation='relu', input_shape=(IMG_HEIGHT, IMG_WIDTH ,3)),\n",
    "      MaxPooling2D(),\n",
    "      Conv2D(32, 3, padding='same', activation='relu'),\n",
    "      MaxPooling2D(),\n",
    "      Conv2D(64, 3, padding='same', activation='relu'),\n",
    "      MaxPooling2D(),\n",
    "      Flatten(),\n",
    "      Dense(512, activation='relu'), \n",
    "      Dense(10, activation=activation)\n",
    "  ])\n",
    "  model.compile(optimizer = optimizer, loss = 'categorical_crossentropy', metrics = ['accuracy'])\n",
    "  return model"
   ]
  },
  {
   "cell_type": "code",
   "execution_count": 0,
   "metadata": {
    "colab": {},
    "colab_type": "code",
    "id": "mH-n8lGJHYID"
   },
   "outputs": [],
   "source": [
    "model3 = create_model('sigmoid','adam')"
   ]
  },
  {
   "cell_type": "code",
   "execution_count": 70,
   "metadata": {
    "colab": {
     "base_uri": "https://localhost:8080/",
     "height": 671
    },
    "colab_type": "code",
    "executionInfo": {
     "elapsed": 1205850,
     "status": "ok",
     "timestamp": 1581985891786,
     "user": {
      "displayName": "Conrard TETSASSI",
      "photoUrl": "",
      "userId": "08359346339446887866"
     },
     "user_tz": 300
    },
    "id": "nFkrlqHs7s-D",
    "outputId": "a7952dbb-9ed0-4351-f4c4-0f92632955c2"
   },
   "outputs": [
    {
     "name": "stdout",
     "output_type": "stream",
     "text": [
      "WARNING:tensorflow:sample_weight modes were coerced from\n",
      "  ...\n",
      "    to  \n",
      "  ['...']\n",
      "WARNING:tensorflow:sample_weight modes were coerced from\n",
      "  ...\n",
      "    to  \n",
      "  ['...']\n",
      "Train for 245 steps, validate for 105 steps\n",
      "Epoch 1/10\n",
      "244/245 [============================>.] - ETA: 0s - loss: 0.7612 - accuracy: 0.7445WARNING:tensorflow:Can save best model only with val_acc available, skipping.\n",
      "245/245 [==============================] - 123s 502ms/step - loss: 0.7584 - accuracy: 0.7455 - val_loss: 0.0985 - val_accuracy: 0.9725\n",
      "Epoch 2/10\n",
      "244/245 [============================>.] - ETA: 0s - loss: 0.0671 - accuracy: 0.9827WARNING:tensorflow:Can save best model only with val_acc available, skipping.\n",
      "245/245 [==============================] - 120s 490ms/step - loss: 0.0669 - accuracy: 0.9827 - val_loss: 0.0495 - val_accuracy: 0.9859\n",
      "Epoch 3/10\n",
      "244/245 [============================>.] - ETA: 0s - loss: 0.0251 - accuracy: 0.9930WARNING:tensorflow:Can save best model only with val_acc available, skipping.\n",
      "245/245 [==============================] - 120s 489ms/step - loss: 0.0254 - accuracy: 0.9929 - val_loss: 0.1311 - val_accuracy: 0.9592\n",
      "Epoch 4/10\n",
      "244/245 [============================>.] - ETA: 0s - loss: 0.0262 - accuracy: 0.9912WARNING:tensorflow:Can save best model only with val_acc available, skipping.\n",
      "245/245 [==============================] - 120s 492ms/step - loss: 0.0262 - accuracy: 0.9912 - val_loss: 0.0433 - val_accuracy: 0.9884\n",
      "Epoch 5/10\n",
      "244/245 [============================>.] - ETA: 0s - loss: 0.0143 - accuracy: 0.9958WARNING:tensorflow:Can save best model only with val_acc available, skipping.\n",
      "245/245 [==============================] - 120s 488ms/step - loss: 0.0142 - accuracy: 0.9958 - val_loss: 0.0266 - val_accuracy: 0.9929\n",
      "Epoch 6/10\n",
      "244/245 [============================>.] - ETA: 0s - loss: 0.0135 - accuracy: 0.9960WARNING:tensorflow:Can save best model only with val_acc available, skipping.\n",
      "245/245 [==============================] - 121s 492ms/step - loss: 0.0135 - accuracy: 0.9960 - val_loss: 0.0322 - val_accuracy: 0.9924\n",
      "Epoch 7/10\n",
      "244/245 [============================>.] - ETA: 0s - loss: 0.0102 - accuracy: 0.9972WARNING:tensorflow:Can save best model only with val_acc available, skipping.\n",
      "245/245 [==============================] - 120s 491ms/step - loss: 0.0101 - accuracy: 0.9973 - val_loss: 0.0333 - val_accuracy: 0.9923\n",
      "Epoch 8/10\n",
      "244/245 [============================>.] - ETA: 0s - loss: 0.0034 - accuracy: 0.9991WARNING:tensorflow:Can save best model only with val_acc available, skipping.\n",
      "245/245 [==============================] - 120s 491ms/step - loss: 0.0034 - accuracy: 0.9991 - val_loss: 0.0383 - val_accuracy: 0.9896\n",
      "Epoch 9/10\n",
      "244/245 [============================>.] - ETA: 0s - loss: 0.0038 - accuracy: 0.9991WARNING:tensorflow:Can save best model only with val_acc available, skipping.\n",
      "245/245 [==============================] - 120s 492ms/step - loss: 0.0038 - accuracy: 0.9991 - val_loss: 0.0279 - val_accuracy: 0.9948\n",
      "Epoch 10/10\n",
      "244/245 [============================>.] - ETA: 0s - loss: 0.0189 - accuracy: 0.9936WARNING:tensorflow:Can save best model only with val_acc available, skipping.\n",
      "245/245 [==============================] - 120s 490ms/step - loss: 0.0191 - accuracy: 0.9935 - val_loss: 0.0439 - val_accuracy: 0.9893\n"
     ]
    }
   ],
   "source": [
    "BATCH_SIZE = 64\n",
    "epochs = 10\n",
    "filepath=workdir+\"weights_best.h5\"\n",
    "checkpoint = ModelCheckpoint(filepath, monitor='val_acc', verbose=1, save_best_only=True, mode='max')\n",
    "callbacks_list = [checkpoint]\n",
    "history = model3.fit_generator(\n",
    "    train_generator,\n",
    "    steps_per_epoch=total_train // BATCH_SIZE,\n",
    "    epochs=epochs,\n",
    "    validation_data=val_generator,\n",
    "    validation_steps=total_val // BATCH_SIZE,\n",
    " callbacks=callbacks_list)"
   ]
  },
  {
   "cell_type": "code",
   "execution_count": 71,
   "metadata": {
    "colab": {
     "base_uri": "https://localhost:8080/",
     "height": 498
    },
    "colab_type": "code",
    "executionInfo": {
     "elapsed": 937,
     "status": "ok",
     "timestamp": 1581985892755,
     "user": {
      "displayName": "Conrard TETSASSI",
      "photoUrl": "",
      "userId": "08359346339446887866"
     },
     "user_tz": 300
    },
    "id": "jjMM3f7_7wyu",
    "outputId": "1414d63d-ce19-4225-f364-637810ecea6c"
   },
   "outputs": [
    {
     "data": {
      "image/png": "[encoded data removed]",
      "text/plain": [
       "<Figure size 576x576 with 2 Axes>"
      ]
     },
     "metadata": {
      "tags": []
     },
     "output_type": "display_data"
    }
   ],
   "source": [
    "acc = history.history['accuracy']\n",
    "val_acc = history.history['val_accuracy']\n",
    "\n",
    "loss=history.history['loss']\n",
    "val_loss=history.history['val_loss']\n",
    "\n",
    "epochs_range = range(epochs)\n",
    "\n",
    "plt.figure(figsize=(8, 8))\n",
    "plt.subplot(1, 2, 1)\n",
    "plt.plot(epochs_range, acc, label='Training Accuracy')\n",
    "plt.plot(epochs_range, val_acc, label='Validation Accuracy')\n",
    "plt.legend(loc='lower right')\n",
    "plt.title('Training and Validation Accuracy')\n",
    "\n",
    "plt.subplot(1, 2, 2)\n",
    "plt.plot(epochs_range, loss, label='Training Loss')\n",
    "plt.plot(epochs_range, val_loss, label='Validation Loss')\n",
    "plt.legend(loc='upper right')\n",
    "plt.title('Training and Validation Loss')\n",
    "plt.show()"
   ]
  },
  {
   "cell_type": "code",
   "execution_count": 72,
   "metadata": {
    "colab": {
     "base_uri": "https://localhost:8080/",
     "height": 33
    },
    "colab_type": "code",
    "executionInfo": {
     "elapsed": 3189,
     "status": "ok",
     "timestamp": 1581985895036,
     "user": {
      "displayName": "Conrard TETSASSI",
      "photoUrl": "",
      "userId": "08359346339446887866"
     },
     "user_tz": 300
    },
    "id": "ztLz_CmoCKFj",
    "outputId": "3c3f28fe-07ea-47fc-ae27-744527ab2643"
   },
   "outputs": [
    {
     "name": "stdout",
     "output_type": "stream",
     "text": [
      "INFO:tensorflow:Assets written to: /content/drive/My Drive/data/distracted//classifier3.model/assets\n"
     ]
    }
   ],
   "source": [
    "model3.save(workdir+'/classifier3.model')"
   ]
  },
  {
   "cell_type": "markdown",
   "metadata": {
    "colab_type": "text",
    "id": "3Pnv-eS5LJKp"
   },
   "source": [
    "## Create the model 3: sigmoid activation and and SGD optimizer"
   ]
  },
  {
   "cell_type": "code",
   "execution_count": 0,
   "metadata": {
    "colab": {},
    "colab_type": "code",
    "id": "bJwmYkn_LJbA"
   },
   "outputs": [],
   "source": [
    "sgd = SGD(lr=0.01, decay=1e-6, momentum=0.9, nesterov=True)\n",
    "model31 = create_model('sigmoid', sgd)"
   ]
  },
  {
   "cell_type": "code",
   "execution_count": 74,
   "metadata": {
    "colab": {
     "base_uri": "https://localhost:8080/",
     "height": 671
    },
    "colab_type": "code",
    "executionInfo": {
     "elapsed": 107372,
     "status": "ok",
     "timestamp": 1581987100912,
     "user": {
      "displayName": "Conrard TETSASSI",
      "photoUrl": "",
      "userId": "08359346339446887866"
     },
     "user_tz": 300
    },
    "id": "LJE70c-DNbrf",
    "outputId": "3eda13a9-425a-4bda-92b6-390474a6c8fa"
   },
   "outputs": [
    {
     "name": "stdout",
     "output_type": "stream",
     "text": [
      "WARNING:tensorflow:sample_weight modes were coerced from\n",
      "  ...\n",
      "    to  \n",
      "  ['...']\n",
      "WARNING:tensorflow:sample_weight modes were coerced from\n",
      "  ...\n",
      "    to  \n",
      "  ['...']\n",
      "Train for 245 steps, validate for 105 steps\n",
      "Epoch 1/10\n",
      "244/245 [============================>.] - ETA: 0s - loss: 1.4107 - accuracy: 0.4999WARNING:tensorflow:Can save best model only with val_acc available, skipping.\n",
      "245/245 [==============================] - 122s 498ms/step - loss: 1.4066 - accuracy: 0.5015 - val_loss: 0.3223 - val_accuracy: 0.9019\n",
      "Epoch 2/10\n",
      "244/245 [============================>.] - ETA: 0s - loss: 0.1303 - accuracy: 0.9628WARNING:tensorflow:Can save best model only with val_acc available, skipping.\n",
      "245/245 [==============================] - 121s 493ms/step - loss: 0.1305 - accuracy: 0.9627 - val_loss: 0.0889 - val_accuracy: 0.9765\n",
      "Epoch 3/10\n",
      "244/245 [============================>.] - ETA: 0s - loss: 0.0456 - accuracy: 0.9868WARNING:tensorflow:Can save best model only with val_acc available, skipping.\n",
      "245/245 [==============================] - 120s 491ms/step - loss: 0.0457 - accuracy: 0.9867 - val_loss: 0.0601 - val_accuracy: 0.9833\n",
      "Epoch 4/10\n",
      "244/245 [============================>.] - ETA: 0s - loss: 0.0219 - accuracy: 0.9935WARNING:tensorflow:Can save best model only with val_acc available, skipping.\n",
      "245/245 [==============================] - 123s 503ms/step - loss: 0.0221 - accuracy: 0.9935 - val_loss: 0.0484 - val_accuracy: 0.9860\n",
      "Epoch 5/10\n",
      "244/245 [============================>.] - ETA: 0s - loss: 0.0195 - accuracy: 0.9952WARNING:tensorflow:Can save best model only with val_acc available, skipping.\n",
      "245/245 [==============================] - 122s 498ms/step - loss: 0.0194 - accuracy: 0.9953 - val_loss: 0.0417 - val_accuracy: 0.9888\n",
      "Epoch 6/10\n",
      "244/245 [============================>.] - ETA: 0s - loss: 0.0065 - accuracy: 0.9986WARNING:tensorflow:Can save best model only with val_acc available, skipping.\n",
      "245/245 [==============================] - 120s 489ms/step - loss: 0.0065 - accuracy: 0.9986 - val_loss: 0.0427 - val_accuracy: 0.9874\n",
      "Epoch 7/10\n",
      "244/245 [============================>.] - ETA: 0s - loss: 0.0085 - accuracy: 0.9978WARNING:tensorflow:Can save best model only with val_acc available, skipping.\n",
      "245/245 [==============================] - 119s 487ms/step - loss: 0.0084 - accuracy: 0.9978 - val_loss: 0.0280 - val_accuracy: 0.9921\n",
      "Epoch 8/10\n",
      "244/245 [============================>.] - ETA: 0s - loss: 0.0039 - accuracy: 0.9993WARNING:tensorflow:Can save best model only with val_acc available, skipping.\n",
      "245/245 [==============================] - 119s 485ms/step - loss: 0.0039 - accuracy: 0.9993 - val_loss: 0.0378 - val_accuracy: 0.9903\n",
      "Epoch 9/10\n",
      "244/245 [============================>.] - ETA: 0s - loss: 0.0049 - accuracy: 0.9987WARNING:tensorflow:Can save best model only with val_acc available, skipping.\n",
      "245/245 [==============================] - 119s 487ms/step - loss: 0.0049 - accuracy: 0.9987 - val_loss: 0.0260 - val_accuracy: 0.9936\n",
      "Epoch 10/10\n",
      "244/245 [============================>.] - ETA: 0s - loss: 0.0018 - accuracy: 0.9998WARNING:tensorflow:Can save best model only with val_acc available, skipping.\n",
      "245/245 [==============================] - 121s 493ms/step - loss: 0.0018 - accuracy: 0.9998 - val_loss: 0.0349 - val_accuracy: 0.9908\n"
     ]
    }
   ],
   "source": [
    "BATCH_SIZE = 64\n",
    "epochs = 10\n",
    "filepath=workdir+\"weights_best.h5\"\n",
    "checkpoint = ModelCheckpoint(filepath, monitor='val_acc', verbose=1, save_best_only=True, mode='max')\n",
    "callbacks_list = [checkpoint]\n",
    "history = model31.fit_generator(\n",
    "    train_generator,\n",
    "    steps_per_epoch=total_train // BATCH_SIZE,\n",
    "    epochs=epochs,\n",
    "    validation_data=val_generator,\n",
    "    validation_steps=total_val // BATCH_SIZE,\n",
    " callbacks=callbacks_list)"
   ]
  },
  {
   "cell_type": "code",
   "execution_count": 75,
   "metadata": {
    "colab": {
     "base_uri": "https://localhost:8080/",
     "height": 498
    },
    "colab_type": "code",
    "executionInfo": {
     "elapsed": 470,
     "status": "ok",
     "timestamp": 1581987101366,
     "user": {
      "displayName": "Conrard TETSASSI",
      "photoUrl": "",
      "userId": "08359346339446887866"
     },
     "user_tz": 300
    },
    "id": "d2ZCvAO4PLrR",
    "outputId": "b20e44b7-3cab-42d6-e473-7d7ffac6292e"
   },
   "outputs": [
    {
     "data": {
      "image/png": "[encoded data removed]",
      "text/plain": [
       "<Figure size 576x576 with 2 Axes>"
      ]
     },
     "metadata": {
      "tags": []
     },
     "output_type": "display_data"
    }
   ],
   "source": [
    "acc = history.history['accuracy']\n",
    "val_acc = history.history['val_accuracy']\n",
    "\n",
    "loss=history.history['loss']\n",
    "val_loss=history.history['val_loss']\n",
    "\n",
    "epochs_range = range(epochs)\n",
    "\n",
    "plt.figure(figsize=(8, 8))\n",
    "plt.subplot(1, 2, 1)\n",
    "plt.plot(epochs_range, acc, label='Training Accuracy')\n",
    "plt.plot(epochs_range, val_acc, label='Validation Accuracy')\n",
    "plt.legend(loc='lower right')\n",
    "plt.title('Training and Validation Accuracy')\n",
    "\n",
    "plt.subplot(1, 2, 2)\n",
    "plt.plot(epochs_range, loss, label='Training Loss')\n",
    "plt.plot(epochs_range, val_loss, label='Validation Loss')\n",
    "plt.legend(loc='upper right')\n",
    "plt.title('Training and Validation Loss')\n",
    "plt.show()"
   ]
  },
  {
   "cell_type": "code",
   "execution_count": 76,
   "metadata": {
    "colab": {
     "base_uri": "https://localhost:8080/",
     "height": 33
    },
    "colab_type": "code",
    "executionInfo": {
     "elapsed": 693,
     "status": "ok",
     "timestamp": 1581987102054,
     "user": {
      "displayName": "Conrard TETSASSI",
      "photoUrl": "",
      "userId": "08359346339446887866"
     },
     "user_tz": 300
    },
    "id": "KKhmfvVRPV1M",
    "outputId": "50ccc833-29a8-4b8f-9025-ed34fa8eeadc"
   },
   "outputs": [
    {
     "name": "stdout",
     "output_type": "stream",
     "text": [
      "INFO:tensorflow:Assets written to: /content/drive/My Drive/data/distracted//classifier31.model/assets\n"
     ]
    }
   ],
   "source": [
    "model31.save(workdir+'/classifier31.model')"
   ]
  },
  {
   "cell_type": "markdown",
   "metadata": {
    "colab_type": "text",
    "id": "tt0kuUXoPR3K"
   },
   "source": [
    "## TEST model 2"
   ]
  },
  {
   "cell_type": "code",
   "execution_count": 0,
   "metadata": {
    "colab": {},
    "colab_type": "code",
    "id": "BW2M3yQiBRqU"
   },
   "outputs": [],
   "source": [
    "def get_data(image_path):\n",
    "    img = Image.open(image_path)\n",
    "    img = img.resize(IMG_HEIGHT, IMG_WIDTH, Image.ANTIALIAS) # resizes image in-place\n",
    "    return np.asarray(img)/255"
   ]
  },
  {
   "cell_type": "code",
   "execution_count": 78,
   "metadata": {
    "colab": {
     "base_uri": "https://localhost:8080/",
     "height": 191
    },
    "colab_type": "code",
    "executionInfo": {
     "elapsed": 433,
     "status": "ok",
     "timestamp": 1581987121389,
     "user": {
      "displayName": "Conrard TETSASSI",
      "photoUrl": "",
      "userId": "08359346339446887866"
     },
     "user_tz": 300
    },
    "id": "l4HJVnbUBZrw",
    "outputId": "78ba3cfe-f9c0-4a4c-d8b3-d06d45c2ed2d"
   },
   "outputs": [
    {
     "data": {
      "text/html": [
       "<div>\n",
       "<style scoped>\n",
       "    .dataframe tbody tr th:only-of-type {\n",
       "        vertical-align: middle;\n",
       "    }\n",
       "\n",
       "    .dataframe tbody tr th {\n",
       "        vertical-align: top;\n",
       "    }\n",
       "\n",
       "    .dataframe thead th {\n",
       "        text-align: right;\n",
       "    }\n",
       "</style>\n",
       "<table border=\"1\" class=\"dataframe\">\n",
       "  <thead>\n",
       "    <tr style=\"text-align: right;\">\n",
       "      <th></th>\n",
       "      <th>img</th>\n",
       "      <th>c0</th>\n",
       "      <th>c1</th>\n",
       "      <th>c2</th>\n",
       "      <th>c3</th>\n",
       "      <th>c4</th>\n",
       "      <th>c5</th>\n",
       "      <th>c6</th>\n",
       "      <th>c7</th>\n",
       "      <th>c8</th>\n",
       "      <th>c9</th>\n",
       "    </tr>\n",
       "  </thead>\n",
       "  <tbody>\n",
       "    <tr>\n",
       "      <th>0</th>\n",
       "      <td>img_1.jpg</td>\n",
       "      <td>0.1</td>\n",
       "      <td>0.1</td>\n",
       "      <td>0.1</td>\n",
       "      <td>0.1</td>\n",
       "      <td>0.1</td>\n",
       "      <td>0.1</td>\n",
       "      <td>0.1</td>\n",
       "      <td>0.1</td>\n",
       "      <td>0.1</td>\n",
       "      <td>0.1</td>\n",
       "    </tr>\n",
       "    <tr>\n",
       "      <th>1</th>\n",
       "      <td>img_10.jpg</td>\n",
       "      <td>0.1</td>\n",
       "      <td>0.1</td>\n",
       "      <td>0.1</td>\n",
       "      <td>0.1</td>\n",
       "      <td>0.1</td>\n",
       "      <td>0.1</td>\n",
       "      <td>0.1</td>\n",
       "      <td>0.1</td>\n",
       "      <td>0.1</td>\n",
       "      <td>0.1</td>\n",
       "    </tr>\n",
       "    <tr>\n",
       "      <th>2</th>\n",
       "      <td>img_100.jpg</td>\n",
       "      <td>0.1</td>\n",
       "      <td>0.1</td>\n",
       "      <td>0.1</td>\n",
       "      <td>0.1</td>\n",
       "      <td>0.1</td>\n",
       "      <td>0.1</td>\n",
       "      <td>0.1</td>\n",
       "      <td>0.1</td>\n",
       "      <td>0.1</td>\n",
       "      <td>0.1</td>\n",
       "    </tr>\n",
       "    <tr>\n",
       "      <th>3</th>\n",
       "      <td>img_1000.jpg</td>\n",
       "      <td>0.1</td>\n",
       "      <td>0.1</td>\n",
       "      <td>0.1</td>\n",
       "      <td>0.1</td>\n",
       "      <td>0.1</td>\n",
       "      <td>0.1</td>\n",
       "      <td>0.1</td>\n",
       "      <td>0.1</td>\n",
       "      <td>0.1</td>\n",
       "      <td>0.1</td>\n",
       "    </tr>\n",
       "    <tr>\n",
       "      <th>4</th>\n",
       "      <td>img_100000.jpg</td>\n",
       "      <td>0.1</td>\n",
       "      <td>0.1</td>\n",
       "      <td>0.1</td>\n",
       "      <td>0.1</td>\n",
       "      <td>0.1</td>\n",
       "      <td>0.1</td>\n",
       "      <td>0.1</td>\n",
       "      <td>0.1</td>\n",
       "      <td>0.1</td>\n",
       "      <td>0.1</td>\n",
       "    </tr>\n",
       "  </tbody>\n",
       "</table>\n",
       "</div>"
      ],
      "text/plain": [
       "              img   c0   c1   c2   c3   c4   c5   c6   c7   c8   c9\n",
       "0       img_1.jpg  0.1  0.1  0.1  0.1  0.1  0.1  0.1  0.1  0.1  0.1\n",
       "1      img_10.jpg  0.1  0.1  0.1  0.1  0.1  0.1  0.1  0.1  0.1  0.1\n",
       "2     img_100.jpg  0.1  0.1  0.1  0.1  0.1  0.1  0.1  0.1  0.1  0.1\n",
       "3    img_1000.jpg  0.1  0.1  0.1  0.1  0.1  0.1  0.1  0.1  0.1  0.1\n",
       "4  img_100000.jpg  0.1  0.1  0.1  0.1  0.1  0.1  0.1  0.1  0.1  0.1"
      ]
     },
     "execution_count": 78,
     "metadata": {
      "tags": []
     },
     "output_type": "execute_result"
    }
   ],
   "source": [
    "test_file = pd.read_csv(workdir+'sample_submission.csv')\n",
    "test_file.head(5)"
   ]
  },
  {
   "cell_type": "code",
   "execution_count": 79,
   "metadata": {
    "colab": {
     "base_uri": "https://localhost:8080/",
     "height": 50
    },
    "colab_type": "code",
    "executionInfo": {
     "elapsed": 7086,
     "status": "ok",
     "timestamp": 1581987221175,
     "user": {
      "displayName": "Conrard TETSASSI",
      "photoUrl": "",
      "userId": "08359346339446887866"
     },
     "user_tz": 300
    },
    "id": "zS7P10t3BgGC",
    "outputId": "f6895e73-9103-40d8-c7a9-c7e1095a1a85"
   },
   "outputs": [
    {
     "name": "stdout",
     "output_type": "stream",
     "text": [
      "CPU times: user 1.33 s, sys: 1.24 s, total: 2.57 s\n",
      "Wall time: 6.59 s\n"
     ]
    }
   ],
   "source": [
    "%%time\n",
    "for i, file in enumerate(test_file['img']):\n",
    "  img_path = workdir+'/test/'+ file\n",
    "  if os.path.exists(img_path):\n",
    "    image = get_data(img_path)\n",
    "    image = np.reshape(image, (1, image.shape[0], image.shape[1], image.shape[2]))\n",
    "    result = model2.predict(image)\n",
    "    test_file.iloc[i, 1:] = result[0]"
   ]
  },
  {
   "cell_type": "code",
   "execution_count": 80,
   "metadata": {
    "colab": {
     "base_uri": "https://localhost:8080/",
     "height": 191
    },
    "colab_type": "code",
    "executionInfo": {
     "elapsed": 326,
     "status": "ok",
     "timestamp": 1581987223520,
     "user": {
      "displayName": "Conrard TETSASSI",
      "photoUrl": "",
      "userId": "08359346339446887866"
     },
     "user_tz": 300
    },
    "id": "oG9tXiUqB6Sr",
    "outputId": "732b8873-26f4-45da-9b58-eb1ca2088802"
   },
   "outputs": [
    {
     "data": {
      "text/html": [
       "<div>\n",
       "<style scoped>\n",
       "    .dataframe tbody tr th:only-of-type {\n",
       "        vertical-align: middle;\n",
       "    }\n",
       "\n",
       "    .dataframe tbody tr th {\n",
       "        vertical-align: top;\n",
       "    }\n",
       "\n",
       "    .dataframe thead th {\n",
       "        text-align: right;\n",
       "    }\n",
       "</style>\n",
       "<table border=\"1\" class=\"dataframe\">\n",
       "  <thead>\n",
       "    <tr style=\"text-align: right;\">\n",
       "      <th></th>\n",
       "      <th>img</th>\n",
       "      <th>c0</th>\n",
       "      <th>c1</th>\n",
       "      <th>c2</th>\n",
       "      <th>c3</th>\n",
       "      <th>c4</th>\n",
       "      <th>c5</th>\n",
       "      <th>c6</th>\n",
       "      <th>c7</th>\n",
       "      <th>c8</th>\n",
       "      <th>c9</th>\n",
       "    </tr>\n",
       "  </thead>\n",
       "  <tbody>\n",
       "    <tr>\n",
       "      <th>0</th>\n",
       "      <td>img_1.jpg</td>\n",
       "      <td>0.1</td>\n",
       "      <td>0.1</td>\n",
       "      <td>0.1</td>\n",
       "      <td>0.1</td>\n",
       "      <td>0.1</td>\n",
       "      <td>0.1</td>\n",
       "      <td>0.1</td>\n",
       "      <td>0.1</td>\n",
       "      <td>0.1</td>\n",
       "      <td>0.1</td>\n",
       "    </tr>\n",
       "    <tr>\n",
       "      <th>1</th>\n",
       "      <td>img_10.jpg</td>\n",
       "      <td>0.1</td>\n",
       "      <td>0.1</td>\n",
       "      <td>0.1</td>\n",
       "      <td>0.1</td>\n",
       "      <td>0.1</td>\n",
       "      <td>0.1</td>\n",
       "      <td>0.1</td>\n",
       "      <td>0.1</td>\n",
       "      <td>0.1</td>\n",
       "      <td>0.1</td>\n",
       "    </tr>\n",
       "    <tr>\n",
       "      <th>2</th>\n",
       "      <td>img_100.jpg</td>\n",
       "      <td>0.1</td>\n",
       "      <td>0.1</td>\n",
       "      <td>0.1</td>\n",
       "      <td>0.1</td>\n",
       "      <td>0.1</td>\n",
       "      <td>0.1</td>\n",
       "      <td>0.1</td>\n",
       "      <td>0.1</td>\n",
       "      <td>0.1</td>\n",
       "      <td>0.1</td>\n",
       "    </tr>\n",
       "    <tr>\n",
       "      <th>3</th>\n",
       "      <td>img_1000.jpg</td>\n",
       "      <td>0.1</td>\n",
       "      <td>0.1</td>\n",
       "      <td>0.1</td>\n",
       "      <td>0.1</td>\n",
       "      <td>0.1</td>\n",
       "      <td>0.1</td>\n",
       "      <td>0.1</td>\n",
       "      <td>0.1</td>\n",
       "      <td>0.1</td>\n",
       "      <td>0.1</td>\n",
       "    </tr>\n",
       "    <tr>\n",
       "      <th>4</th>\n",
       "      <td>img_100000.jpg</td>\n",
       "      <td>0.1</td>\n",
       "      <td>0.1</td>\n",
       "      <td>0.1</td>\n",
       "      <td>0.1</td>\n",
       "      <td>0.1</td>\n",
       "      <td>0.1</td>\n",
       "      <td>0.1</td>\n",
       "      <td>0.1</td>\n",
       "      <td>0.1</td>\n",
       "      <td>0.1</td>\n",
       "    </tr>\n",
       "  </tbody>\n",
       "</table>\n",
       "</div>"
      ],
      "text/plain": [
       "              img   c0   c1   c2   c3   c4   c5   c6   c7   c8   c9\n",
       "0       img_1.jpg  0.1  0.1  0.1  0.1  0.1  0.1  0.1  0.1  0.1  0.1\n",
       "1      img_10.jpg  0.1  0.1  0.1  0.1  0.1  0.1  0.1  0.1  0.1  0.1\n",
       "2     img_100.jpg  0.1  0.1  0.1  0.1  0.1  0.1  0.1  0.1  0.1  0.1\n",
       "3    img_1000.jpg  0.1  0.1  0.1  0.1  0.1  0.1  0.1  0.1  0.1  0.1\n",
       "4  img_100000.jpg  0.1  0.1  0.1  0.1  0.1  0.1  0.1  0.1  0.1  0.1"
      ]
     },
     "execution_count": 80,
     "metadata": {
      "tags": []
     },
     "output_type": "execute_result"
    }
   ],
   "source": [
    "test_file.head()"
   ]
  },
  {
   "cell_type": "code",
   "execution_count": 0,
   "metadata": {
    "colab": {},
    "colab_type": "code",
    "id": "QTj57v_0B6fh"
   },
   "outputs": [],
   "source": [
    "test_file.to_csv(workdir+'model2_results.csv', index = False)"
   ]
  }
 ],
 "metadata": {
  "accelerator": "GPU",
  "colab": {
   "collapsed_sections": [],
   "name": "classification.ipynb",
   "provenance": [
    {
     "file_id": "https://github.com/tensorflow/docs/blob/master/site/en/tutorials/images/classification.ipynb",
     "timestamp": 1581637512456
    }
   ],
   "toc_visible": true
  },
  "kernelspec": {
   "display_name": "Python 3",
   "language": "python",
   "name": "python3"
  },
  "language_info": {
   "codemirror_mode": {
    "name": "ipython",
    "version": 3
   },
   "file_extension": ".py",
   "mimetype": "text/x-python",
   "name": "python",
   "nbconvert_exporter": "python",
   "pygments_lexer": "ipython3",
   "version": "3.7.2"
  }
 },
 "nbformat": 4,
 "nbformat_minor": 1
}
